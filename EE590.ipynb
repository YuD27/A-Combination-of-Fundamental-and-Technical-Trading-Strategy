{
 "cells": [
  {
   "cell_type": "code",
   "execution_count": 1,
   "id": "46a74461",
   "metadata": {},
   "outputs": [],
   "source": [
    "import numpy as np\n",
    "import numpy.linalg as la\n",
    "import pandas as pd\n",
    "import cvxpy as cp\n",
    "from pypfopt import EfficientFrontier, risk_models, expected_returns, objective_functions, BlackLittermanModel\n",
    "from pandas.tseries.offsets import DateOffset\n",
    "import matplotlib.pyplot as plt\n",
    "import warnings\n",
    "warnings.filterwarnings('ignore')"
   ]
  },
  {
   "cell_type": "code",
   "execution_count": 2,
   "id": "5a4502b9",
   "metadata": {},
   "outputs": [
    {
     "data": {
      "text/html": [
       "<div>\n",
       "<style scoped>\n",
       "    .dataframe tbody tr th:only-of-type {\n",
       "        vertical-align: middle;\n",
       "    }\n",
       "\n",
       "    .dataframe tbody tr th {\n",
       "        vertical-align: top;\n",
       "    }\n",
       "\n",
       "    .dataframe thead th {\n",
       "        text-align: right;\n",
       "    }\n",
       "</style>\n",
       "<table border=\"1\" class=\"dataframe\">\n",
       "  <thead>\n",
       "    <tr style=\"text-align: right;\">\n",
       "      <th></th>\n",
       "      <th>GVKEY</th>\n",
       "      <th>PERMNO</th>\n",
       "      <th>DATE</th>\n",
       "      <th>fyearq</th>\n",
       "      <th>fqtr</th>\n",
       "      <th>indfmt</th>\n",
       "      <th>consol</th>\n",
       "      <th>popsrc</th>\n",
       "      <th>datafmt</th>\n",
       "      <th>curcdq</th>\n",
       "      <th>...</th>\n",
       "      <th>datafqtr</th>\n",
       "      <th>rdq</th>\n",
       "      <th>actq</th>\n",
       "      <th>atq</th>\n",
       "      <th>ibq</th>\n",
       "      <th>niq</th>\n",
       "      <th>saleq</th>\n",
       "      <th>seqq</th>\n",
       "      <th>costat</th>\n",
       "      <th>naics</th>\n",
       "    </tr>\n",
       "  </thead>\n",
       "  <tbody>\n",
       "    <tr>\n",
       "      <th>0</th>\n",
       "      <td>1003</td>\n",
       "      <td>10031</td>\n",
       "      <td>1989-01-31</td>\n",
       "      <td>1988</td>\n",
       "      <td>4</td>\n",
       "      <td>INDL</td>\n",
       "      <td>C</td>\n",
       "      <td>D</td>\n",
       "      <td>STD</td>\n",
       "      <td>USD</td>\n",
       "      <td>...</td>\n",
       "      <td>1988Q4</td>\n",
       "      <td>1989-04-30</td>\n",
       "      <td>14.656</td>\n",
       "      <td>16.280</td>\n",
       "      <td>-5.419</td>\n",
       "      <td>-5.419</td>\n",
       "      <td>8.653</td>\n",
       "      <td>-0.194</td>\n",
       "      <td>I</td>\n",
       "      <td>442110.0</td>\n",
       "    </tr>\n",
       "    <tr>\n",
       "      <th>1</th>\n",
       "      <td>1003</td>\n",
       "      <td>10031</td>\n",
       "      <td>1989-04-30</td>\n",
       "      <td>1989</td>\n",
       "      <td>1</td>\n",
       "      <td>INDL</td>\n",
       "      <td>C</td>\n",
       "      <td>D</td>\n",
       "      <td>STD</td>\n",
       "      <td>USD</td>\n",
       "      <td>...</td>\n",
       "      <td>1989Q1</td>\n",
       "      <td>1989-07-30</td>\n",
       "      <td>NaN</td>\n",
       "      <td>NaN</td>\n",
       "      <td>-0.753</td>\n",
       "      <td>-0.753</td>\n",
       "      <td>5.194</td>\n",
       "      <td>NaN</td>\n",
       "      <td>I</td>\n",
       "      <td>442110.0</td>\n",
       "    </tr>\n",
       "    <tr>\n",
       "      <th>2</th>\n",
       "      <td>1003</td>\n",
       "      <td>10031</td>\n",
       "      <td>1989-07-31</td>\n",
       "      <td>1989</td>\n",
       "      <td>2</td>\n",
       "      <td>INDL</td>\n",
       "      <td>C</td>\n",
       "      <td>D</td>\n",
       "      <td>STD</td>\n",
       "      <td>USD</td>\n",
       "      <td>...</td>\n",
       "      <td>1989Q2</td>\n",
       "      <td>1989-10-31</td>\n",
       "      <td>12.046</td>\n",
       "      <td>13.328</td>\n",
       "      <td>0.415</td>\n",
       "      <td>2.748</td>\n",
       "      <td>4.384</td>\n",
       "      <td>1.801</td>\n",
       "      <td>I</td>\n",
       "      <td>442110.0</td>\n",
       "    </tr>\n",
       "    <tr>\n",
       "      <th>3</th>\n",
       "      <td>1004</td>\n",
       "      <td>54594</td>\n",
       "      <td>1989-02-28</td>\n",
       "      <td>1988</td>\n",
       "      <td>3</td>\n",
       "      <td>INDL</td>\n",
       "      <td>C</td>\n",
       "      <td>D</td>\n",
       "      <td>STD</td>\n",
       "      <td>USD</td>\n",
       "      <td>...</td>\n",
       "      <td>1988Q3</td>\n",
       "      <td>1989-03-20</td>\n",
       "      <td>247.407</td>\n",
       "      <td>347.139</td>\n",
       "      <td>6.045</td>\n",
       "      <td>6.045</td>\n",
       "      <td>102.318</td>\n",
       "      <td>166.042</td>\n",
       "      <td>A</td>\n",
       "      <td>423860.0</td>\n",
       "    </tr>\n",
       "    <tr>\n",
       "      <th>4</th>\n",
       "      <td>1004</td>\n",
       "      <td>54594</td>\n",
       "      <td>1989-05-31</td>\n",
       "      <td>1988</td>\n",
       "      <td>4</td>\n",
       "      <td>INDL</td>\n",
       "      <td>C</td>\n",
       "      <td>D</td>\n",
       "      <td>STD</td>\n",
       "      <td>USD</td>\n",
       "      <td>...</td>\n",
       "      <td>1988Q4</td>\n",
       "      <td>1989-07-18</td>\n",
       "      <td>257.048</td>\n",
       "      <td>356.391</td>\n",
       "      <td>7.365</td>\n",
       "      <td>7.365</td>\n",
       "      <td>113.390</td>\n",
       "      <td>171.580</td>\n",
       "      <td>A</td>\n",
       "      <td>423860.0</td>\n",
       "    </tr>\n",
       "  </tbody>\n",
       "</table>\n",
       "<p>5 rows × 21 columns</p>\n",
       "</div>"
      ],
      "text/plain": [
       "   GVKEY  PERMNO       DATE  fyearq  fqtr indfmt consol popsrc datafmt curcdq  \\\n",
       "0   1003   10031 1989-01-31    1988     4   INDL      C      D     STD    USD   \n",
       "1   1003   10031 1989-04-30    1989     1   INDL      C      D     STD    USD   \n",
       "2   1003   10031 1989-07-31    1989     2   INDL      C      D     STD    USD   \n",
       "3   1004   54594 1989-02-28    1988     3   INDL      C      D     STD    USD   \n",
       "4   1004   54594 1989-05-31    1988     4   INDL      C      D     STD    USD   \n",
       "\n",
       "   ... datafqtr        rdq     actq      atq    ibq    niq    saleq     seqq  \\\n",
       "0  ...   1988Q4 1989-04-30   14.656   16.280 -5.419 -5.419    8.653   -0.194   \n",
       "1  ...   1989Q1 1989-07-30      NaN      NaN -0.753 -0.753    5.194      NaN   \n",
       "2  ...   1989Q2 1989-10-31   12.046   13.328  0.415  2.748    4.384    1.801   \n",
       "3  ...   1988Q3 1989-03-20  247.407  347.139  6.045  6.045  102.318  166.042   \n",
       "4  ...   1988Q4 1989-07-18  257.048  356.391  7.365  7.365  113.390  171.580   \n",
       "\n",
       "   costat     naics  \n",
       "0       I  442110.0  \n",
       "1       I  442110.0  \n",
       "2       I  442110.0  \n",
       "3       A  423860.0  \n",
       "4       A  423860.0  \n",
       "\n",
       "[5 rows x 21 columns]"
      ]
     },
     "execution_count": 2,
     "metadata": {},
     "output_type": "execute_result"
    }
   ],
   "source": [
    "# cstat = pd.read_feather('compustat.feather')\n",
    "cstat = pd.read_feather('compustat_ind.feather')\n",
    "cstat.reset_index(inplace=True)\n",
    "cstat = cstat.rename(columns={'datadate':'DATE', 'LPERMNO':'PERMNO'})\n",
    "cstat['DATE'] = pd.to_datetime(cstat['DATE'])\n",
    "cstat['rdq'] = pd.to_datetime(cstat['rdq'])\n",
    "cstat.loc[cstat['rdq'].isna(), 'rdq'] = cstat['DATE'] + DateOffset(months=3)\n",
    "cstat.drop(['index'], axis=1, inplace=True)\n",
    "cstat.head()"
   ]
  },
  {
   "cell_type": "code",
   "execution_count": 3,
   "id": "0e3fcd49",
   "metadata": {},
   "outputs": [],
   "source": [
    "crsp = pd.read_feather('crsp.feather')\n",
    "crsp.reset_index(inplace=True)\n",
    "crsp = crsp.rename(columns={'date':'DATE'})\n",
    "crsp['DATE'] = pd.to_datetime(crsp['DATE'])"
   ]
  },
  {
   "cell_type": "code",
   "execution_count": 4,
   "id": "986cc005",
   "metadata": {},
   "outputs": [
    {
     "data": {
      "text/html": [
       "<div>\n",
       "<style scoped>\n",
       "    .dataframe tbody tr th:only-of-type {\n",
       "        vertical-align: middle;\n",
       "    }\n",
       "\n",
       "    .dataframe tbody tr th {\n",
       "        vertical-align: top;\n",
       "    }\n",
       "\n",
       "    .dataframe thead th {\n",
       "        text-align: right;\n",
       "    }\n",
       "</style>\n",
       "<table border=\"1\" class=\"dataframe\">\n",
       "  <thead>\n",
       "    <tr style=\"text-align: right;\">\n",
       "      <th></th>\n",
       "      <th>PERMNO</th>\n",
       "      <th>DATE</th>\n",
       "      <th>SHRCD</th>\n",
       "      <th>TICKER</th>\n",
       "      <th>COMNAM</th>\n",
       "      <th>NAICS</th>\n",
       "      <th>DIVAMT</th>\n",
       "      <th>PRC</th>\n",
       "      <th>VOL</th>\n",
       "      <th>RET</th>\n",
       "      <th>BID</th>\n",
       "      <th>ASK</th>\n",
       "      <th>SHROUT</th>\n",
       "      <th>OPENPRC</th>\n",
       "      <th>RETX</th>\n",
       "      <th>sprtrn</th>\n",
       "    </tr>\n",
       "  </thead>\n",
       "  <tbody>\n",
       "    <tr>\n",
       "      <th>0</th>\n",
       "      <td>10001</td>\n",
       "      <td>1990-01-02</td>\n",
       "      <td>11</td>\n",
       "      <td>GFGC</td>\n",
       "      <td>GREAT FALLS GAS CO</td>\n",
       "      <td>NaN</td>\n",
       "      <td>NaN</td>\n",
       "      <td>10.1250</td>\n",
       "      <td>1900.0</td>\n",
       "      <td>0.000000</td>\n",
       "      <td>10.0</td>\n",
       "      <td>10.125</td>\n",
       "      <td>1022.0</td>\n",
       "      <td>NaN</td>\n",
       "      <td>0.000000</td>\n",
       "      <td>0.017799</td>\n",
       "    </tr>\n",
       "    <tr>\n",
       "      <th>1</th>\n",
       "      <td>10001</td>\n",
       "      <td>1990-01-03</td>\n",
       "      <td>11</td>\n",
       "      <td>GFGC</td>\n",
       "      <td>GREAT FALLS GAS CO</td>\n",
       "      <td>NaN</td>\n",
       "      <td>NaN</td>\n",
       "      <td>10.0000</td>\n",
       "      <td>1300.0</td>\n",
       "      <td>-0.012346</td>\n",
       "      <td>10.0</td>\n",
       "      <td>10.125</td>\n",
       "      <td>1022.0</td>\n",
       "      <td>NaN</td>\n",
       "      <td>-0.012346</td>\n",
       "      <td>-0.002586</td>\n",
       "    </tr>\n",
       "    <tr>\n",
       "      <th>2</th>\n",
       "      <td>10001</td>\n",
       "      <td>1990-01-04</td>\n",
       "      <td>11</td>\n",
       "      <td>GFGC</td>\n",
       "      <td>GREAT FALLS GAS CO</td>\n",
       "      <td>NaN</td>\n",
       "      <td>NaN</td>\n",
       "      <td>10.0000</td>\n",
       "      <td>1300.0</td>\n",
       "      <td>0.000000</td>\n",
       "      <td>10.0</td>\n",
       "      <td>10.125</td>\n",
       "      <td>1022.0</td>\n",
       "      <td>NaN</td>\n",
       "      <td>0.000000</td>\n",
       "      <td>-0.008613</td>\n",
       "    </tr>\n",
       "    <tr>\n",
       "      <th>3</th>\n",
       "      <td>10001</td>\n",
       "      <td>1990-01-05</td>\n",
       "      <td>11</td>\n",
       "      <td>GFGC</td>\n",
       "      <td>GREAT FALLS GAS CO</td>\n",
       "      <td>NaN</td>\n",
       "      <td>NaN</td>\n",
       "      <td>-10.0625</td>\n",
       "      <td>0.0</td>\n",
       "      <td>0.006250</td>\n",
       "      <td>10.0</td>\n",
       "      <td>10.125</td>\n",
       "      <td>1022.0</td>\n",
       "      <td>NaN</td>\n",
       "      <td>0.006250</td>\n",
       "      <td>-0.009756</td>\n",
       "    </tr>\n",
       "    <tr>\n",
       "      <th>4</th>\n",
       "      <td>10001</td>\n",
       "      <td>1990-01-08</td>\n",
       "      <td>11</td>\n",
       "      <td>GFGC</td>\n",
       "      <td>GREAT FALLS GAS CO</td>\n",
       "      <td>NaN</td>\n",
       "      <td>NaN</td>\n",
       "      <td>10.1250</td>\n",
       "      <td>900.0</td>\n",
       "      <td>0.006211</td>\n",
       "      <td>10.0</td>\n",
       "      <td>10.125</td>\n",
       "      <td>1022.0</td>\n",
       "      <td>NaN</td>\n",
       "      <td>0.006211</td>\n",
       "      <td>0.004514</td>\n",
       "    </tr>\n",
       "  </tbody>\n",
       "</table>\n",
       "</div>"
      ],
      "text/plain": [
       "   PERMNO       DATE  SHRCD TICKER              COMNAM  NAICS  DIVAMT  \\\n",
       "0   10001 1990-01-02     11   GFGC  GREAT FALLS GAS CO    NaN     NaN   \n",
       "1   10001 1990-01-03     11   GFGC  GREAT FALLS GAS CO    NaN     NaN   \n",
       "2   10001 1990-01-04     11   GFGC  GREAT FALLS GAS CO    NaN     NaN   \n",
       "3   10001 1990-01-05     11   GFGC  GREAT FALLS GAS CO    NaN     NaN   \n",
       "4   10001 1990-01-08     11   GFGC  GREAT FALLS GAS CO    NaN     NaN   \n",
       "\n",
       "       PRC     VOL       RET   BID     ASK  SHROUT  OPENPRC      RETX  \\\n",
       "0  10.1250  1900.0  0.000000  10.0  10.125  1022.0      NaN  0.000000   \n",
       "1  10.0000  1300.0 -0.012346  10.0  10.125  1022.0      NaN -0.012346   \n",
       "2  10.0000  1300.0  0.000000  10.0  10.125  1022.0      NaN  0.000000   \n",
       "3 -10.0625     0.0  0.006250  10.0  10.125  1022.0      NaN  0.006250   \n",
       "4  10.1250   900.0  0.006211  10.0  10.125  1022.0      NaN  0.006211   \n",
       "\n",
       "     sprtrn  \n",
       "0  0.017799  \n",
       "1 -0.002586  \n",
       "2 -0.008613  \n",
       "3 -0.009756  \n",
       "4  0.004514  "
      ]
     },
     "execution_count": 4,
     "metadata": {},
     "output_type": "execute_result"
    }
   ],
   "source": [
    "crsp.drop(['index'], axis=1, inplace=True)\n",
    "crsp.head()"
   ]
  },
  {
   "cell_type": "code",
   "execution_count": 5,
   "id": "7d24deb0",
   "metadata": {},
   "outputs": [
    {
     "data": {
      "text/html": [
       "<div>\n",
       "<style scoped>\n",
       "    .dataframe tbody tr th:only-of-type {\n",
       "        vertical-align: middle;\n",
       "    }\n",
       "\n",
       "    .dataframe tbody tr th {\n",
       "        vertical-align: top;\n",
       "    }\n",
       "\n",
       "    .dataframe thead th {\n",
       "        text-align: right;\n",
       "    }\n",
       "</style>\n",
       "<table border=\"1\" class=\"dataframe\">\n",
       "  <thead>\n",
       "    <tr style=\"text-align: right;\">\n",
       "      <th></th>\n",
       "      <th>Mkt-RF</th>\n",
       "      <th>SMB</th>\n",
       "      <th>HML</th>\n",
       "      <th>RF</th>\n",
       "    </tr>\n",
       "    <tr>\n",
       "      <th>DATE</th>\n",
       "      <th></th>\n",
       "      <th></th>\n",
       "      <th></th>\n",
       "      <th></th>\n",
       "    </tr>\n",
       "  </thead>\n",
       "  <tbody>\n",
       "    <tr>\n",
       "      <th>1926-07-01</th>\n",
       "      <td>0.10</td>\n",
       "      <td>-0.25</td>\n",
       "      <td>-0.27</td>\n",
       "      <td>0.009</td>\n",
       "    </tr>\n",
       "    <tr>\n",
       "      <th>1926-07-02</th>\n",
       "      <td>0.45</td>\n",
       "      <td>-0.33</td>\n",
       "      <td>-0.06</td>\n",
       "      <td>0.009</td>\n",
       "    </tr>\n",
       "    <tr>\n",
       "      <th>1926-07-06</th>\n",
       "      <td>0.17</td>\n",
       "      <td>0.30</td>\n",
       "      <td>-0.39</td>\n",
       "      <td>0.009</td>\n",
       "    </tr>\n",
       "    <tr>\n",
       "      <th>1926-07-07</th>\n",
       "      <td>0.09</td>\n",
       "      <td>-0.58</td>\n",
       "      <td>0.02</td>\n",
       "      <td>0.009</td>\n",
       "    </tr>\n",
       "    <tr>\n",
       "      <th>1926-07-08</th>\n",
       "      <td>0.21</td>\n",
       "      <td>-0.38</td>\n",
       "      <td>0.19</td>\n",
       "      <td>0.009</td>\n",
       "    </tr>\n",
       "    <tr>\n",
       "      <th>...</th>\n",
       "      <td>...</td>\n",
       "      <td>...</td>\n",
       "      <td>...</td>\n",
       "      <td>...</td>\n",
       "    </tr>\n",
       "    <tr>\n",
       "      <th>2024-02-23</th>\n",
       "      <td>0.02</td>\n",
       "      <td>0.28</td>\n",
       "      <td>-0.03</td>\n",
       "      <td>0.021</td>\n",
       "    </tr>\n",
       "    <tr>\n",
       "      <th>2024-02-26</th>\n",
       "      <td>-0.26</td>\n",
       "      <td>1.00</td>\n",
       "      <td>-0.11</td>\n",
       "      <td>0.021</td>\n",
       "    </tr>\n",
       "    <tr>\n",
       "      <th>2024-02-27</th>\n",
       "      <td>0.27</td>\n",
       "      <td>1.19</td>\n",
       "      <td>-0.45</td>\n",
       "      <td>0.021</td>\n",
       "    </tr>\n",
       "    <tr>\n",
       "      <th>2024-02-28</th>\n",
       "      <td>-0.26</td>\n",
       "      <td>-0.85</td>\n",
       "      <td>0.00</td>\n",
       "      <td>0.021</td>\n",
       "    </tr>\n",
       "    <tr>\n",
       "      <th>2024-02-29</th>\n",
       "      <td>0.54</td>\n",
       "      <td>-0.34</td>\n",
       "      <td>0.98</td>\n",
       "      <td>0.021</td>\n",
       "    </tr>\n",
       "  </tbody>\n",
       "</table>\n",
       "<p>25690 rows × 4 columns</p>\n",
       "</div>"
      ],
      "text/plain": [
       "            Mkt-RF   SMB   HML     RF\n",
       "DATE                                 \n",
       "1926-07-01    0.10 -0.25 -0.27  0.009\n",
       "1926-07-02    0.45 -0.33 -0.06  0.009\n",
       "1926-07-06    0.17  0.30 -0.39  0.009\n",
       "1926-07-07    0.09 -0.58  0.02  0.009\n",
       "1926-07-08    0.21 -0.38  0.19  0.009\n",
       "...            ...   ...   ...    ...\n",
       "2024-02-23    0.02  0.28 -0.03  0.021\n",
       "2024-02-26   -0.26  1.00 -0.11  0.021\n",
       "2024-02-27    0.27  1.19 -0.45  0.021\n",
       "2024-02-28   -0.26 -0.85  0.00  0.021\n",
       "2024-02-29    0.54 -0.34  0.98  0.021\n",
       "\n",
       "[25690 rows x 4 columns]"
      ]
     },
     "execution_count": 5,
     "metadata": {},
     "output_type": "execute_result"
    }
   ],
   "source": [
    "ff = pd.read_csv('F-F_Research_Data_Factors_daily.csv', skiprows=5,\n",
    "                 names=['DATE', 'Mkt-RF', 'SMB', 'HML', 'RF'])[:-1]\n",
    "ff['DATE'] = pd.to_datetime(ff['DATE'], format = '%Y%m%d')\n",
    "ff = ff.set_index('DATE')\n",
    "ff"
   ]
  },
  {
   "cell_type": "code",
   "execution_count": 6,
   "id": "2e655cc4",
   "metadata": {},
   "outputs": [
    {
     "data": {
      "text/html": [
       "<div>\n",
       "<style scoped>\n",
       "    .dataframe tbody tr th:only-of-type {\n",
       "        vertical-align: middle;\n",
       "    }\n",
       "\n",
       "    .dataframe tbody tr th {\n",
       "        vertical-align: top;\n",
       "    }\n",
       "\n",
       "    .dataframe thead th {\n",
       "        text-align: right;\n",
       "    }\n",
       "</style>\n",
       "<table border=\"1\" class=\"dataframe\">\n",
       "  <thead>\n",
       "    <tr style=\"text-align: right;\">\n",
       "      <th></th>\n",
       "      <th>Mkt-RF</th>\n",
       "      <th>SMB</th>\n",
       "      <th>HML</th>\n",
       "      <th>RF</th>\n",
       "    </tr>\n",
       "    <tr>\n",
       "      <th>DATE</th>\n",
       "      <th></th>\n",
       "      <th></th>\n",
       "      <th></th>\n",
       "      <th></th>\n",
       "    </tr>\n",
       "  </thead>\n",
       "  <tbody>\n",
       "    <tr>\n",
       "      <th>2024-02-23</th>\n",
       "      <td>0.02</td>\n",
       "      <td>0.28</td>\n",
       "      <td>-0.03</td>\n",
       "      <td>0.021</td>\n",
       "    </tr>\n",
       "    <tr>\n",
       "      <th>2024-02-26</th>\n",
       "      <td>-0.26</td>\n",
       "      <td>1.00</td>\n",
       "      <td>-0.11</td>\n",
       "      <td>0.021</td>\n",
       "    </tr>\n",
       "    <tr>\n",
       "      <th>2024-02-27</th>\n",
       "      <td>0.27</td>\n",
       "      <td>1.19</td>\n",
       "      <td>-0.45</td>\n",
       "      <td>0.021</td>\n",
       "    </tr>\n",
       "    <tr>\n",
       "      <th>2024-02-28</th>\n",
       "      <td>-0.26</td>\n",
       "      <td>-0.85</td>\n",
       "      <td>0.00</td>\n",
       "      <td>0.021</td>\n",
       "    </tr>\n",
       "    <tr>\n",
       "      <th>2024-02-29</th>\n",
       "      <td>0.54</td>\n",
       "      <td>-0.34</td>\n",
       "      <td>0.98</td>\n",
       "      <td>0.021</td>\n",
       "    </tr>\n",
       "  </tbody>\n",
       "</table>\n",
       "</div>"
      ],
      "text/plain": [
       "            Mkt-RF   SMB   HML     RF\n",
       "DATE                                 \n",
       "2024-02-23    0.02  0.28 -0.03  0.021\n",
       "2024-02-26   -0.26  1.00 -0.11  0.021\n",
       "2024-02-27    0.27  1.19 -0.45  0.021\n",
       "2024-02-28   -0.26 -0.85  0.00  0.021\n",
       "2024-02-29    0.54 -0.34  0.98  0.021"
      ]
     },
     "execution_count": 6,
     "metadata": {},
     "output_type": "execute_result"
    }
   ],
   "source": [
    "ff.tail()"
   ]
  },
  {
   "cell_type": "markdown",
   "id": "7e8a9544",
   "metadata": {},
   "source": [
    "# 1. Data Cleaning"
   ]
  },
  {
   "cell_type": "markdown",
   "id": "514c8aaf",
   "metadata": {},
   "source": [
    "## 1.1 CRSP Data Cleaning"
   ]
  },
  {
   "cell_type": "code",
   "execution_count": 7,
   "id": "381793d3",
   "metadata": {},
   "outputs": [
    {
     "data": {
      "text/plain": [
       "['PERMNO',\n",
       " 'DATE',\n",
       " 'SHRCD',\n",
       " 'TICKER',\n",
       " 'COMNAM',\n",
       " 'NAICS',\n",
       " 'DIVAMT',\n",
       " 'PRC',\n",
       " 'VOL',\n",
       " 'RET',\n",
       " 'BID',\n",
       " 'ASK',\n",
       " 'SHROUT',\n",
       " 'OPENPRC',\n",
       " 'RETX',\n",
       " 'sprtrn']"
      ]
     },
     "execution_count": 7,
     "metadata": {},
     "output_type": "execute_result"
    }
   ],
   "source": [
    "list(crsp.columns)"
   ]
  },
  {
   "cell_type": "code",
   "execution_count": 8,
   "id": "a16401b1",
   "metadata": {},
   "outputs": [],
   "source": [
    "# Make close price into absolute value\n",
    "crsp['PRC'] = np.abs(crsp['PRC'])\n",
    "\n",
    "# Drop rows with volume = 0\n",
    "crsp = crsp[crsp['VOL'] > 0]\n",
    "\n",
    "# Compute market value as MV, and remove rows with market value less than $50M. SHROUT is in thousands.\n",
    "crsp['MV'] = crsp['SHROUT'] * crsp['PRC']\n",
    "crsp = crsp[crsp['MV'] > 50000]\n",
    "\n",
    "# Drop unused columns\n",
    "crsp.drop(['SHRCD','COMNAM','NAICS','DIVAMT','BID','ASK','sprtrn','TICKER'], axis=1, inplace=True)\n",
    "\n",
    "# For NA values in RET and RETX, we manually compute the return using PRC\n",
    "crsp.loc[crsp['RET'].isna(), 'RET'] = crsp['PRC'] / crsp['PRC'].shift()\n",
    "crsp.loc[crsp['RETX'].isna(), 'RETX'] = crsp['PRC'] / crsp['PRC'].shift()"
   ]
  },
  {
   "cell_type": "code",
   "execution_count": 9,
   "id": "14d0a4e0",
   "metadata": {},
   "outputs": [
    {
     "data": {
      "text/html": [
       "<div>\n",
       "<style scoped>\n",
       "    .dataframe tbody tr th:only-of-type {\n",
       "        vertical-align: middle;\n",
       "    }\n",
       "\n",
       "    .dataframe tbody tr th {\n",
       "        vertical-align: top;\n",
       "    }\n",
       "\n",
       "    .dataframe thead th {\n",
       "        text-align: right;\n",
       "    }\n",
       "</style>\n",
       "<table border=\"1\" class=\"dataframe\">\n",
       "  <thead>\n",
       "    <tr style=\"text-align: right;\">\n",
       "      <th></th>\n",
       "      <th></th>\n",
       "      <th>PRC</th>\n",
       "      <th>VOL</th>\n",
       "      <th>RET</th>\n",
       "      <th>SHROUT</th>\n",
       "      <th>OPENPRC</th>\n",
       "      <th>RETX</th>\n",
       "      <th>MV</th>\n",
       "    </tr>\n",
       "    <tr>\n",
       "      <th>PERMNO</th>\n",
       "      <th>DATE</th>\n",
       "      <th></th>\n",
       "      <th></th>\n",
       "      <th></th>\n",
       "      <th></th>\n",
       "      <th></th>\n",
       "      <th></th>\n",
       "      <th></th>\n",
       "    </tr>\n",
       "  </thead>\n",
       "  <tbody>\n",
       "    <tr>\n",
       "      <th rowspan=\"5\" valign=\"top\">10001</th>\n",
       "      <th>2010-04-27</th>\n",
       "      <td>11.61</td>\n",
       "      <td>27800.0</td>\n",
       "      <td>0.045946</td>\n",
       "      <td>4361.0</td>\n",
       "      <td>11.13</td>\n",
       "      <td>0.045946</td>\n",
       "      <td>50631.21</td>\n",
       "    </tr>\n",
       "    <tr>\n",
       "      <th>2010-04-29</th>\n",
       "      <td>11.52</td>\n",
       "      <td>12100.0</td>\n",
       "      <td>0.024920</td>\n",
       "      <td>4361.0</td>\n",
       "      <td>11.30</td>\n",
       "      <td>0.024920</td>\n",
       "      <td>50238.72</td>\n",
       "    </tr>\n",
       "    <tr>\n",
       "      <th>2010-04-30</th>\n",
       "      <td>11.39</td>\n",
       "      <td>23400.0</td>\n",
       "      <td>-0.011285</td>\n",
       "      <td>6070.0</td>\n",
       "      <td>11.98</td>\n",
       "      <td>-0.011285</td>\n",
       "      <td>69137.30</td>\n",
       "    </tr>\n",
       "    <tr>\n",
       "      <th>2010-05-03</th>\n",
       "      <td>11.80</td>\n",
       "      <td>10000.0</td>\n",
       "      <td>0.035996</td>\n",
       "      <td>6070.0</td>\n",
       "      <td>11.65</td>\n",
       "      <td>0.035996</td>\n",
       "      <td>71626.00</td>\n",
       "    </tr>\n",
       "    <tr>\n",
       "      <th>2010-05-04</th>\n",
       "      <td>11.56</td>\n",
       "      <td>11100.0</td>\n",
       "      <td>-0.020339</td>\n",
       "      <td>6070.0</td>\n",
       "      <td>11.50</td>\n",
       "      <td>-0.020339</td>\n",
       "      <td>70169.20</td>\n",
       "    </tr>\n",
       "  </tbody>\n",
       "</table>\n",
       "</div>"
      ],
      "text/plain": [
       "                     PRC      VOL       RET  SHROUT  OPENPRC      RETX  \\\n",
       "PERMNO DATE                                                              \n",
       "10001  2010-04-27  11.61  27800.0  0.045946  4361.0    11.13  0.045946   \n",
       "       2010-04-29  11.52  12100.0  0.024920  4361.0    11.30  0.024920   \n",
       "       2010-04-30  11.39  23400.0 -0.011285  6070.0    11.98 -0.011285   \n",
       "       2010-05-03  11.80  10000.0  0.035996  6070.0    11.65  0.035996   \n",
       "       2010-05-04  11.56  11100.0 -0.020339  6070.0    11.50 -0.020339   \n",
       "\n",
       "                         MV  \n",
       "PERMNO DATE                  \n",
       "10001  2010-04-27  50631.21  \n",
       "       2010-04-29  50238.72  \n",
       "       2010-04-30  69137.30  \n",
       "       2010-05-03  71626.00  \n",
       "       2010-05-04  70169.20  "
      ]
     },
     "execution_count": 9,
     "metadata": {},
     "output_type": "execute_result"
    }
   ],
   "source": [
    "crsp.set_index(['PERMNO', 'DATE'], inplace=True)\n",
    "crsp.sort_index(inplace=True)\n",
    "crsp.head()"
   ]
  },
  {
   "cell_type": "markdown",
   "id": "b5dc9a0c",
   "metadata": {},
   "source": [
    "## 1.2 COMPUSTAT Data Cleaning"
   ]
  },
  {
   "cell_type": "code",
   "execution_count": 10,
   "id": "55304ce4",
   "metadata": {},
   "outputs": [],
   "source": [
    "# Drop unused columns\n",
    "# This is used for the dataset compustat.feather. It does not have NAICS codes\n",
    "# cstat.drop(['GVKEY','fyearq','fqtr','fyr','indfmt','consol','popsrc','datafmt','tic','conm','curcdq','datacqtr',\n",
    "#             'datafqtr','pdateq','cshfdq','cshoq','cshprq','cdvcy','dvy','iby','costat','dvpspq','spcindcd'],\n",
    "#            axis=1, inplace=True)\n",
    "\n",
    "cstat.drop(['GVKEY','fyearq','fqtr','indfmt','consol','popsrc','datafmt','curcdq','datacqtr',\n",
    "            'datafqtr','costat'],\n",
    "           axis=1, inplace=True)"
   ]
  },
  {
   "cell_type": "code",
   "execution_count": 11,
   "id": "920225e3",
   "metadata": {
    "scrolled": true
   },
   "outputs": [
    {
     "data": {
      "text/plain": [
       "['PERMNO',\n",
       " 'DATE',\n",
       " 'rdq',\n",
       " 'actq',\n",
       " 'atq',\n",
       " 'ibq',\n",
       " 'niq',\n",
       " 'saleq',\n",
       " 'seqq',\n",
       " 'naics']"
      ]
     },
     "execution_count": 11,
     "metadata": {},
     "output_type": "execute_result"
    }
   ],
   "source": [
    "list(cstat.columns)"
   ]
  },
  {
   "cell_type": "code",
   "execution_count": 12,
   "id": "78bb451b",
   "metadata": {},
   "outputs": [],
   "source": [
    "# Filter out the financial institutions (NAICS sector 52, so their NAICS starts with 52).\n",
    "cstat['naics_str'] = cstat['naics'].astype(str)\n",
    "cstat = cstat[~cstat['naics_str'].str.startswith('52')]\n",
    "cstat.drop(columns='naics_str',inplace=True)"
   ]
  },
  {
   "cell_type": "code",
   "execution_count": 13,
   "id": "16ace52f",
   "metadata": {},
   "outputs": [],
   "source": [
    "# DATE: reporting date of earnings, CA: Current Asset, IB: Income Before Extraordinary Items, NI: Net Income\n",
    "# SALE: Revenue, Equity: Stockholder's Equity\n",
    "cstat.rename(columns={'DATE':'DATADATE','rdq':'DATE','actq':'CA','ibq':'IB','niq':'NI','saleq':'SALE',\n",
    "                      'seqq':'Equity', 'atq':'Asset'}, inplace=True)"
   ]
  },
  {
   "cell_type": "code",
   "execution_count": 14,
   "id": "09040caa",
   "metadata": {},
   "outputs": [
    {
     "data": {
      "text/html": [
       "<div>\n",
       "<style scoped>\n",
       "    .dataframe tbody tr th:only-of-type {\n",
       "        vertical-align: middle;\n",
       "    }\n",
       "\n",
       "    .dataframe tbody tr th {\n",
       "        vertical-align: top;\n",
       "    }\n",
       "\n",
       "    .dataframe thead th {\n",
       "        text-align: right;\n",
       "    }\n",
       "</style>\n",
       "<table border=\"1\" class=\"dataframe\">\n",
       "  <thead>\n",
       "    <tr style=\"text-align: right;\">\n",
       "      <th></th>\n",
       "      <th></th>\n",
       "      <th>DATADATE</th>\n",
       "      <th>CA</th>\n",
       "      <th>Asset</th>\n",
       "      <th>IB</th>\n",
       "      <th>NI</th>\n",
       "      <th>SALE</th>\n",
       "      <th>Equity</th>\n",
       "      <th>naics</th>\n",
       "    </tr>\n",
       "    <tr>\n",
       "      <th>PERMNO</th>\n",
       "      <th>DATE</th>\n",
       "      <th></th>\n",
       "      <th></th>\n",
       "      <th></th>\n",
       "      <th></th>\n",
       "      <th></th>\n",
       "      <th></th>\n",
       "      <th></th>\n",
       "      <th></th>\n",
       "    </tr>\n",
       "  </thead>\n",
       "  <tbody>\n",
       "    <tr>\n",
       "      <th rowspan=\"5\" valign=\"top\">10001</th>\n",
       "      <th>1989-06-30</th>\n",
       "      <td>1989-03-31</td>\n",
       "      <td>5.700</td>\n",
       "      <td>20.669</td>\n",
       "      <td>0.720</td>\n",
       "      <td>0.720</td>\n",
       "      <td>9.992</td>\n",
       "      <td>6.172</td>\n",
       "      <td>221210.0</td>\n",
       "    </tr>\n",
       "    <tr>\n",
       "      <th>1989-08-29</th>\n",
       "      <td>1989-06-30</td>\n",
       "      <td>3.577</td>\n",
       "      <td>18.565</td>\n",
       "      <td>0.245</td>\n",
       "      <td>0.245</td>\n",
       "      <td>4.826</td>\n",
       "      <td>6.321</td>\n",
       "      <td>221210.0</td>\n",
       "    </tr>\n",
       "    <tr>\n",
       "      <th>1989-11-03</th>\n",
       "      <td>1989-09-30</td>\n",
       "      <td>3.002</td>\n",
       "      <td>18.088</td>\n",
       "      <td>-0.201</td>\n",
       "      <td>-0.201</td>\n",
       "      <td>2.883</td>\n",
       "      <td>6.129</td>\n",
       "      <td>221210.0</td>\n",
       "    </tr>\n",
       "    <tr>\n",
       "      <th>1990-02-20</th>\n",
       "      <td>1989-12-31</td>\n",
       "      <td>5.416</td>\n",
       "      <td>20.484</td>\n",
       "      <td>0.569</td>\n",
       "      <td>0.569</td>\n",
       "      <td>7.615</td>\n",
       "      <td>6.599</td>\n",
       "      <td>221210.0</td>\n",
       "    </tr>\n",
       "    <tr>\n",
       "      <th>1990-05-10</th>\n",
       "      <td>1990-03-31</td>\n",
       "      <td>4.701</td>\n",
       "      <td>20.245</td>\n",
       "      <td>0.728</td>\n",
       "      <td>0.728</td>\n",
       "      <td>8.350</td>\n",
       "      <td>7.243</td>\n",
       "      <td>221210.0</td>\n",
       "    </tr>\n",
       "  </tbody>\n",
       "</table>\n",
       "</div>"
      ],
      "text/plain": [
       "                    DATADATE     CA   Asset     IB     NI   SALE  Equity  \\\n",
       "PERMNO DATE                                                                \n",
       "10001  1989-06-30 1989-03-31  5.700  20.669  0.720  0.720  9.992   6.172   \n",
       "       1989-08-29 1989-06-30  3.577  18.565  0.245  0.245  4.826   6.321   \n",
       "       1989-11-03 1989-09-30  3.002  18.088 -0.201 -0.201  2.883   6.129   \n",
       "       1990-02-20 1989-12-31  5.416  20.484  0.569  0.569  7.615   6.599   \n",
       "       1990-05-10 1990-03-31  4.701  20.245  0.728  0.728  8.350   7.243   \n",
       "\n",
       "                      naics  \n",
       "PERMNO DATE                  \n",
       "10001  1989-06-30  221210.0  \n",
       "       1989-08-29  221210.0  \n",
       "       1989-11-03  221210.0  \n",
       "       1990-02-20  221210.0  \n",
       "       1990-05-10  221210.0  "
      ]
     },
     "execution_count": 14,
     "metadata": {},
     "output_type": "execute_result"
    }
   ],
   "source": [
    "# Set cstat index and sort the data by index\n",
    "cstat.set_index(['PERMNO', 'DATE'], inplace=True)\n",
    "cstat.sort_index(inplace=True)\n",
    "cstat.head()"
   ]
  },
  {
   "cell_type": "code",
   "execution_count": 15,
   "id": "7a42bda2",
   "metadata": {},
   "outputs": [],
   "source": [
    "# Merge crsp and cstat\n",
    "df = crsp.merge(cstat[['CA', 'Asset', 'IB', 'NI', 'SALE', 'Equity']], how='outer', on=['PERMNO','DATE'])"
   ]
  },
  {
   "cell_type": "code",
   "execution_count": 16,
   "id": "6c881b10",
   "metadata": {},
   "outputs": [],
   "source": [
    "# For missing values in financials, we fill them using the last valid entry of the company.\n",
    "# If there are still missing values, it arises from issues with the original dataset\n",
    "# and there is not much to do.\n",
    "df.reset_index(inplace=True)\n",
    "df.sort_values(by=['PERMNO','DATE'], inplace=True)\n",
    "df[['CA','Asset','IB','NI','SALE','Equity']] = df.groupby('PERMNO')[['CA','Asset','IB',\n",
    "                                                                     'NI','SALE','Equity']].ffill()"
   ]
  },
  {
   "cell_type": "code",
   "execution_count": 17,
   "id": "8e4c646b",
   "metadata": {},
   "outputs": [
    {
     "data": {
      "text/html": [
       "<div>\n",
       "<style scoped>\n",
       "    .dataframe tbody tr th:only-of-type {\n",
       "        vertical-align: middle;\n",
       "    }\n",
       "\n",
       "    .dataframe tbody tr th {\n",
       "        vertical-align: top;\n",
       "    }\n",
       "\n",
       "    .dataframe thead th {\n",
       "        text-align: right;\n",
       "    }\n",
       "</style>\n",
       "<table border=\"1\" class=\"dataframe\">\n",
       "  <thead>\n",
       "    <tr style=\"text-align: right;\">\n",
       "      <th></th>\n",
       "      <th></th>\n",
       "      <th>PRC</th>\n",
       "      <th>VOL</th>\n",
       "      <th>RET</th>\n",
       "      <th>SHROUT</th>\n",
       "      <th>OPENPRC</th>\n",
       "      <th>RETX</th>\n",
       "      <th>MV</th>\n",
       "      <th>CA</th>\n",
       "      <th>Asset</th>\n",
       "      <th>IB</th>\n",
       "      <th>NI</th>\n",
       "      <th>SALE</th>\n",
       "      <th>Equity</th>\n",
       "    </tr>\n",
       "    <tr>\n",
       "      <th>PERMNO</th>\n",
       "      <th>DATE</th>\n",
       "      <th></th>\n",
       "      <th></th>\n",
       "      <th></th>\n",
       "      <th></th>\n",
       "      <th></th>\n",
       "      <th></th>\n",
       "      <th></th>\n",
       "      <th></th>\n",
       "      <th></th>\n",
       "      <th></th>\n",
       "      <th></th>\n",
       "      <th></th>\n",
       "      <th></th>\n",
       "    </tr>\n",
       "  </thead>\n",
       "  <tbody>\n",
       "    <tr>\n",
       "      <th rowspan=\"5\" valign=\"top\">10001</th>\n",
       "      <th>1989-06-30</th>\n",
       "      <td>NaN</td>\n",
       "      <td>NaN</td>\n",
       "      <td>NaN</td>\n",
       "      <td>NaN</td>\n",
       "      <td>NaN</td>\n",
       "      <td>NaN</td>\n",
       "      <td>NaN</td>\n",
       "      <td>5.700</td>\n",
       "      <td>20.669</td>\n",
       "      <td>0.720</td>\n",
       "      <td>0.720</td>\n",
       "      <td>9.992</td>\n",
       "      <td>6.172</td>\n",
       "    </tr>\n",
       "    <tr>\n",
       "      <th>1989-08-29</th>\n",
       "      <td>NaN</td>\n",
       "      <td>NaN</td>\n",
       "      <td>NaN</td>\n",
       "      <td>NaN</td>\n",
       "      <td>NaN</td>\n",
       "      <td>NaN</td>\n",
       "      <td>NaN</td>\n",
       "      <td>3.577</td>\n",
       "      <td>18.565</td>\n",
       "      <td>0.245</td>\n",
       "      <td>0.245</td>\n",
       "      <td>4.826</td>\n",
       "      <td>6.321</td>\n",
       "    </tr>\n",
       "    <tr>\n",
       "      <th>1989-11-03</th>\n",
       "      <td>NaN</td>\n",
       "      <td>NaN</td>\n",
       "      <td>NaN</td>\n",
       "      <td>NaN</td>\n",
       "      <td>NaN</td>\n",
       "      <td>NaN</td>\n",
       "      <td>NaN</td>\n",
       "      <td>3.002</td>\n",
       "      <td>18.088</td>\n",
       "      <td>-0.201</td>\n",
       "      <td>-0.201</td>\n",
       "      <td>2.883</td>\n",
       "      <td>6.129</td>\n",
       "    </tr>\n",
       "    <tr>\n",
       "      <th>1990-02-20</th>\n",
       "      <td>NaN</td>\n",
       "      <td>NaN</td>\n",
       "      <td>NaN</td>\n",
       "      <td>NaN</td>\n",
       "      <td>NaN</td>\n",
       "      <td>NaN</td>\n",
       "      <td>NaN</td>\n",
       "      <td>5.416</td>\n",
       "      <td>20.484</td>\n",
       "      <td>0.569</td>\n",
       "      <td>0.569</td>\n",
       "      <td>7.615</td>\n",
       "      <td>6.599</td>\n",
       "    </tr>\n",
       "    <tr>\n",
       "      <th>1990-05-10</th>\n",
       "      <td>NaN</td>\n",
       "      <td>NaN</td>\n",
       "      <td>NaN</td>\n",
       "      <td>NaN</td>\n",
       "      <td>NaN</td>\n",
       "      <td>NaN</td>\n",
       "      <td>NaN</td>\n",
       "      <td>4.701</td>\n",
       "      <td>20.245</td>\n",
       "      <td>0.728</td>\n",
       "      <td>0.728</td>\n",
       "      <td>8.350</td>\n",
       "      <td>7.243</td>\n",
       "    </tr>\n",
       "  </tbody>\n",
       "</table>\n",
       "</div>"
      ],
      "text/plain": [
       "                   PRC  VOL  RET  SHROUT  OPENPRC  RETX  MV     CA   Asset  \\\n",
       "PERMNO DATE                                                                  \n",
       "10001  1989-06-30  NaN  NaN  NaN     NaN      NaN   NaN NaN  5.700  20.669   \n",
       "       1989-08-29  NaN  NaN  NaN     NaN      NaN   NaN NaN  3.577  18.565   \n",
       "       1989-11-03  NaN  NaN  NaN     NaN      NaN   NaN NaN  3.002  18.088   \n",
       "       1990-02-20  NaN  NaN  NaN     NaN      NaN   NaN NaN  5.416  20.484   \n",
       "       1990-05-10  NaN  NaN  NaN     NaN      NaN   NaN NaN  4.701  20.245   \n",
       "\n",
       "                      IB     NI   SALE  Equity  \n",
       "PERMNO DATE                                     \n",
       "10001  1989-06-30  0.720  0.720  9.992   6.172  \n",
       "       1989-08-29  0.245  0.245  4.826   6.321  \n",
       "       1989-11-03 -0.201 -0.201  2.883   6.129  \n",
       "       1990-02-20  0.569  0.569  7.615   6.599  \n",
       "       1990-05-10  0.728  0.728  8.350   7.243  "
      ]
     },
     "execution_count": 17,
     "metadata": {},
     "output_type": "execute_result"
    }
   ],
   "source": [
    "df.set_index(['PERMNO', 'DATE'], inplace=True)\n",
    "df.sort_index(inplace=True)\n",
    "df.head()"
   ]
  },
  {
   "cell_type": "code",
   "execution_count": 18,
   "id": "84258805",
   "metadata": {},
   "outputs": [],
   "source": [
    "# Drop observations without valid price or return.\n",
    "df = df.dropna(subset=['PRC','RET','RETX'])"
   ]
  },
  {
   "cell_type": "code",
   "execution_count": 19,
   "id": "f54dc352",
   "metadata": {
    "scrolled": true
   },
   "outputs": [
    {
     "data": {
      "text/html": [
       "<div>\n",
       "<style scoped>\n",
       "    .dataframe tbody tr th:only-of-type {\n",
       "        vertical-align: middle;\n",
       "    }\n",
       "\n",
       "    .dataframe tbody tr th {\n",
       "        vertical-align: top;\n",
       "    }\n",
       "\n",
       "    .dataframe thead th {\n",
       "        text-align: right;\n",
       "    }\n",
       "</style>\n",
       "<table border=\"1\" class=\"dataframe\">\n",
       "  <thead>\n",
       "    <tr style=\"text-align: right;\">\n",
       "      <th></th>\n",
       "      <th></th>\n",
       "      <th>PRC</th>\n",
       "      <th>VOL</th>\n",
       "      <th>RET</th>\n",
       "      <th>SHROUT</th>\n",
       "      <th>OPENPRC</th>\n",
       "      <th>RETX</th>\n",
       "      <th>MV</th>\n",
       "      <th>CA</th>\n",
       "      <th>Asset</th>\n",
       "      <th>IB</th>\n",
       "      <th>NI</th>\n",
       "      <th>SALE</th>\n",
       "      <th>Equity</th>\n",
       "    </tr>\n",
       "    <tr>\n",
       "      <th>PERMNO</th>\n",
       "      <th>DATE</th>\n",
       "      <th></th>\n",
       "      <th></th>\n",
       "      <th></th>\n",
       "      <th></th>\n",
       "      <th></th>\n",
       "      <th></th>\n",
       "      <th></th>\n",
       "      <th></th>\n",
       "      <th></th>\n",
       "      <th></th>\n",
       "      <th></th>\n",
       "      <th></th>\n",
       "      <th></th>\n",
       "    </tr>\n",
       "  </thead>\n",
       "  <tbody>\n",
       "    <tr>\n",
       "      <th rowspan=\"5\" valign=\"top\">10001</th>\n",
       "      <th>2010-04-27</th>\n",
       "      <td>11.61</td>\n",
       "      <td>27800.0</td>\n",
       "      <td>0.045946</td>\n",
       "      <td>4361.0</td>\n",
       "      <td>11.13</td>\n",
       "      <td>0.045946</td>\n",
       "      <td>50631.21</td>\n",
       "      <td>25.641</td>\n",
       "      <td>78.626</td>\n",
       "      <td>4.343</td>\n",
       "      <td>4.343</td>\n",
       "      <td>19.556</td>\n",
       "      <td>35.688</td>\n",
       "    </tr>\n",
       "    <tr>\n",
       "      <th>2010-04-29</th>\n",
       "      <td>11.52</td>\n",
       "      <td>12100.0</td>\n",
       "      <td>0.024920</td>\n",
       "      <td>4361.0</td>\n",
       "      <td>11.30</td>\n",
       "      <td>0.024920</td>\n",
       "      <td>50238.72</td>\n",
       "      <td>25.641</td>\n",
       "      <td>78.626</td>\n",
       "      <td>4.343</td>\n",
       "      <td>4.343</td>\n",
       "      <td>19.556</td>\n",
       "      <td>35.688</td>\n",
       "    </tr>\n",
       "    <tr>\n",
       "      <th>2010-04-30</th>\n",
       "      <td>11.39</td>\n",
       "      <td>23400.0</td>\n",
       "      <td>-0.011285</td>\n",
       "      <td>6070.0</td>\n",
       "      <td>11.98</td>\n",
       "      <td>-0.011285</td>\n",
       "      <td>69137.30</td>\n",
       "      <td>25.641</td>\n",
       "      <td>78.626</td>\n",
       "      <td>4.343</td>\n",
       "      <td>4.343</td>\n",
       "      <td>19.556</td>\n",
       "      <td>35.688</td>\n",
       "    </tr>\n",
       "    <tr>\n",
       "      <th>2010-05-03</th>\n",
       "      <td>11.80</td>\n",
       "      <td>10000.0</td>\n",
       "      <td>0.035996</td>\n",
       "      <td>6070.0</td>\n",
       "      <td>11.65</td>\n",
       "      <td>0.035996</td>\n",
       "      <td>71626.00</td>\n",
       "      <td>25.641</td>\n",
       "      <td>78.626</td>\n",
       "      <td>4.343</td>\n",
       "      <td>4.343</td>\n",
       "      <td>19.556</td>\n",
       "      <td>35.688</td>\n",
       "    </tr>\n",
       "    <tr>\n",
       "      <th>2010-05-04</th>\n",
       "      <td>11.56</td>\n",
       "      <td>11100.0</td>\n",
       "      <td>-0.020339</td>\n",
       "      <td>6070.0</td>\n",
       "      <td>11.50</td>\n",
       "      <td>-0.020339</td>\n",
       "      <td>70169.20</td>\n",
       "      <td>25.641</td>\n",
       "      <td>78.626</td>\n",
       "      <td>4.343</td>\n",
       "      <td>4.343</td>\n",
       "      <td>19.556</td>\n",
       "      <td>35.688</td>\n",
       "    </tr>\n",
       "  </tbody>\n",
       "</table>\n",
       "</div>"
      ],
      "text/plain": [
       "                     PRC      VOL       RET  SHROUT  OPENPRC      RETX  \\\n",
       "PERMNO DATE                                                              \n",
       "10001  2010-04-27  11.61  27800.0  0.045946  4361.0    11.13  0.045946   \n",
       "       2010-04-29  11.52  12100.0  0.024920  4361.0    11.30  0.024920   \n",
       "       2010-04-30  11.39  23400.0 -0.011285  6070.0    11.98 -0.011285   \n",
       "       2010-05-03  11.80  10000.0  0.035996  6070.0    11.65  0.035996   \n",
       "       2010-05-04  11.56  11100.0 -0.020339  6070.0    11.50 -0.020339   \n",
       "\n",
       "                         MV      CA   Asset     IB     NI    SALE  Equity  \n",
       "PERMNO DATE                                                                \n",
       "10001  2010-04-27  50631.21  25.641  78.626  4.343  4.343  19.556  35.688  \n",
       "       2010-04-29  50238.72  25.641  78.626  4.343  4.343  19.556  35.688  \n",
       "       2010-04-30  69137.30  25.641  78.626  4.343  4.343  19.556  35.688  \n",
       "       2010-05-03  71626.00  25.641  78.626  4.343  4.343  19.556  35.688  \n",
       "       2010-05-04  70169.20  25.641  78.626  4.343  4.343  19.556  35.688  "
      ]
     },
     "execution_count": 19,
     "metadata": {},
     "output_type": "execute_result"
    }
   ],
   "source": [
    "df.head()"
   ]
  },
  {
   "cell_type": "markdown",
   "id": "39b74123",
   "metadata": {},
   "source": [
    "## 1.3 Fama-French Research Data Cleaning"
   ]
  },
  {
   "cell_type": "code",
   "execution_count": 20,
   "id": "9c3c3d9f",
   "metadata": {},
   "outputs": [
    {
     "data": {
      "text/html": [
       "<div>\n",
       "<style scoped>\n",
       "    .dataframe tbody tr th:only-of-type {\n",
       "        vertical-align: middle;\n",
       "    }\n",
       "\n",
       "    .dataframe tbody tr th {\n",
       "        vertical-align: top;\n",
       "    }\n",
       "\n",
       "    .dataframe thead th {\n",
       "        text-align: right;\n",
       "    }\n",
       "</style>\n",
       "<table border=\"1\" class=\"dataframe\">\n",
       "  <thead>\n",
       "    <tr style=\"text-align: right;\">\n",
       "      <th></th>\n",
       "      <th>Mkt-RF</th>\n",
       "      <th>SMB</th>\n",
       "      <th>HML</th>\n",
       "      <th>RF</th>\n",
       "    </tr>\n",
       "    <tr>\n",
       "      <th>DATE</th>\n",
       "      <th></th>\n",
       "      <th></th>\n",
       "      <th></th>\n",
       "      <th></th>\n",
       "    </tr>\n",
       "  </thead>\n",
       "  <tbody>\n",
       "    <tr>\n",
       "      <th>1926-07-01</th>\n",
       "      <td>0.10</td>\n",
       "      <td>-0.25</td>\n",
       "      <td>-0.27</td>\n",
       "      <td>0.009</td>\n",
       "    </tr>\n",
       "    <tr>\n",
       "      <th>1926-07-02</th>\n",
       "      <td>0.45</td>\n",
       "      <td>-0.33</td>\n",
       "      <td>-0.06</td>\n",
       "      <td>0.009</td>\n",
       "    </tr>\n",
       "    <tr>\n",
       "      <th>1926-07-06</th>\n",
       "      <td>0.17</td>\n",
       "      <td>0.30</td>\n",
       "      <td>-0.39</td>\n",
       "      <td>0.009</td>\n",
       "    </tr>\n",
       "    <tr>\n",
       "      <th>1926-07-07</th>\n",
       "      <td>0.09</td>\n",
       "      <td>-0.58</td>\n",
       "      <td>0.02</td>\n",
       "      <td>0.009</td>\n",
       "    </tr>\n",
       "    <tr>\n",
       "      <th>1926-07-08</th>\n",
       "      <td>0.21</td>\n",
       "      <td>-0.38</td>\n",
       "      <td>0.19</td>\n",
       "      <td>0.009</td>\n",
       "    </tr>\n",
       "  </tbody>\n",
       "</table>\n",
       "</div>"
      ],
      "text/plain": [
       "            Mkt-RF   SMB   HML     RF\n",
       "DATE                                 \n",
       "1926-07-01    0.10 -0.25 -0.27  0.009\n",
       "1926-07-02    0.45 -0.33 -0.06  0.009\n",
       "1926-07-06    0.17  0.30 -0.39  0.009\n",
       "1926-07-07    0.09 -0.58  0.02  0.009\n",
       "1926-07-08    0.21 -0.38  0.19  0.009"
      ]
     },
     "execution_count": 20,
     "metadata": {},
     "output_type": "execute_result"
    }
   ],
   "source": [
    "ff.head()"
   ]
  },
  {
   "cell_type": "code",
   "execution_count": 21,
   "id": "6ff5b9ec",
   "metadata": {},
   "outputs": [],
   "source": [
    "# The original data is in percentages. This changes it to decimals.\n",
    "ff = ff/100\n",
    "\n",
    "# Merge ff into df\n",
    "df.reset_index(inplace=True)\n",
    "df = df.merge(ff[['Mkt-RF','SMB','HML','RF']], how='left', on='DATE')"
   ]
  },
  {
   "cell_type": "code",
   "execution_count": 22,
   "id": "420039a0",
   "metadata": {},
   "outputs": [
    {
     "data": {
      "text/html": [
       "<div>\n",
       "<style scoped>\n",
       "    .dataframe tbody tr th:only-of-type {\n",
       "        vertical-align: middle;\n",
       "    }\n",
       "\n",
       "    .dataframe tbody tr th {\n",
       "        vertical-align: top;\n",
       "    }\n",
       "\n",
       "    .dataframe thead th {\n",
       "        text-align: right;\n",
       "    }\n",
       "</style>\n",
       "<table border=\"1\" class=\"dataframe\">\n",
       "  <thead>\n",
       "    <tr style=\"text-align: right;\">\n",
       "      <th></th>\n",
       "      <th></th>\n",
       "      <th>PRC</th>\n",
       "      <th>VOL</th>\n",
       "      <th>RET</th>\n",
       "      <th>SHROUT</th>\n",
       "      <th>OPENPRC</th>\n",
       "      <th>RETX</th>\n",
       "      <th>MV</th>\n",
       "      <th>CA</th>\n",
       "      <th>Asset</th>\n",
       "      <th>IB</th>\n",
       "      <th>NI</th>\n",
       "      <th>SALE</th>\n",
       "      <th>Equity</th>\n",
       "      <th>Mkt-RF</th>\n",
       "      <th>SMB</th>\n",
       "      <th>HML</th>\n",
       "      <th>RF</th>\n",
       "    </tr>\n",
       "    <tr>\n",
       "      <th>PERMNO</th>\n",
       "      <th>DATE</th>\n",
       "      <th></th>\n",
       "      <th></th>\n",
       "      <th></th>\n",
       "      <th></th>\n",
       "      <th></th>\n",
       "      <th></th>\n",
       "      <th></th>\n",
       "      <th></th>\n",
       "      <th></th>\n",
       "      <th></th>\n",
       "      <th></th>\n",
       "      <th></th>\n",
       "      <th></th>\n",
       "      <th></th>\n",
       "      <th></th>\n",
       "      <th></th>\n",
       "      <th></th>\n",
       "    </tr>\n",
       "  </thead>\n",
       "  <tbody>\n",
       "    <tr>\n",
       "      <th rowspan=\"5\" valign=\"top\">10001</th>\n",
       "      <th>2010-04-27</th>\n",
       "      <td>11.61</td>\n",
       "      <td>27800.0</td>\n",
       "      <td>0.045946</td>\n",
       "      <td>4361.0</td>\n",
       "      <td>11.13</td>\n",
       "      <td>0.045946</td>\n",
       "      <td>50631.21</td>\n",
       "      <td>25.641</td>\n",
       "      <td>78.626</td>\n",
       "      <td>4.343</td>\n",
       "      <td>4.343</td>\n",
       "      <td>19.556</td>\n",
       "      <td>35.688</td>\n",
       "      <td>-0.0234</td>\n",
       "      <td>0.0012</td>\n",
       "      <td>-0.0135</td>\n",
       "      <td>0.00001</td>\n",
       "    </tr>\n",
       "    <tr>\n",
       "      <th>2010-04-29</th>\n",
       "      <td>11.52</td>\n",
       "      <td>12100.0</td>\n",
       "      <td>0.024920</td>\n",
       "      <td>4361.0</td>\n",
       "      <td>11.30</td>\n",
       "      <td>0.024920</td>\n",
       "      <td>50238.72</td>\n",
       "      <td>25.641</td>\n",
       "      <td>78.626</td>\n",
       "      <td>4.343</td>\n",
       "      <td>4.343</td>\n",
       "      <td>19.556</td>\n",
       "      <td>35.688</td>\n",
       "      <td>0.0134</td>\n",
       "      <td>0.0043</td>\n",
       "      <td>0.0056</td>\n",
       "      <td>0.00001</td>\n",
       "    </tr>\n",
       "    <tr>\n",
       "      <th>2010-04-30</th>\n",
       "      <td>11.39</td>\n",
       "      <td>23400.0</td>\n",
       "      <td>-0.011285</td>\n",
       "      <td>6070.0</td>\n",
       "      <td>11.98</td>\n",
       "      <td>-0.011285</td>\n",
       "      <td>69137.30</td>\n",
       "      <td>25.641</td>\n",
       "      <td>78.626</td>\n",
       "      <td>4.343</td>\n",
       "      <td>4.343</td>\n",
       "      <td>19.556</td>\n",
       "      <td>35.688</td>\n",
       "      <td>-0.0172</td>\n",
       "      <td>-0.0097</td>\n",
       "      <td>-0.0088</td>\n",
       "      <td>0.00001</td>\n",
       "    </tr>\n",
       "    <tr>\n",
       "      <th>2010-05-03</th>\n",
       "      <td>11.80</td>\n",
       "      <td>10000.0</td>\n",
       "      <td>0.035996</td>\n",
       "      <td>6070.0</td>\n",
       "      <td>11.65</td>\n",
       "      <td>0.035996</td>\n",
       "      <td>71626.00</td>\n",
       "      <td>25.641</td>\n",
       "      <td>78.626</td>\n",
       "      <td>4.343</td>\n",
       "      <td>4.343</td>\n",
       "      <td>19.556</td>\n",
       "      <td>35.688</td>\n",
       "      <td>0.0136</td>\n",
       "      <td>0.0062</td>\n",
       "      <td>0.0060</td>\n",
       "      <td>0.00001</td>\n",
       "    </tr>\n",
       "    <tr>\n",
       "      <th>2010-05-04</th>\n",
       "      <td>11.56</td>\n",
       "      <td>11100.0</td>\n",
       "      <td>-0.020339</td>\n",
       "      <td>6070.0</td>\n",
       "      <td>11.50</td>\n",
       "      <td>-0.020339</td>\n",
       "      <td>70169.20</td>\n",
       "      <td>25.641</td>\n",
       "      <td>78.626</td>\n",
       "      <td>4.343</td>\n",
       "      <td>4.343</td>\n",
       "      <td>19.556</td>\n",
       "      <td>35.688</td>\n",
       "      <td>-0.0250</td>\n",
       "      <td>-0.0056</td>\n",
       "      <td>-0.0092</td>\n",
       "      <td>0.00001</td>\n",
       "    </tr>\n",
       "  </tbody>\n",
       "</table>\n",
       "</div>"
      ],
      "text/plain": [
       "                     PRC      VOL       RET  SHROUT  OPENPRC      RETX  \\\n",
       "PERMNO DATE                                                              \n",
       "10001  2010-04-27  11.61  27800.0  0.045946  4361.0    11.13  0.045946   \n",
       "       2010-04-29  11.52  12100.0  0.024920  4361.0    11.30  0.024920   \n",
       "       2010-04-30  11.39  23400.0 -0.011285  6070.0    11.98 -0.011285   \n",
       "       2010-05-03  11.80  10000.0  0.035996  6070.0    11.65  0.035996   \n",
       "       2010-05-04  11.56  11100.0 -0.020339  6070.0    11.50 -0.020339   \n",
       "\n",
       "                         MV      CA   Asset     IB     NI    SALE  Equity  \\\n",
       "PERMNO DATE                                                                 \n",
       "10001  2010-04-27  50631.21  25.641  78.626  4.343  4.343  19.556  35.688   \n",
       "       2010-04-29  50238.72  25.641  78.626  4.343  4.343  19.556  35.688   \n",
       "       2010-04-30  69137.30  25.641  78.626  4.343  4.343  19.556  35.688   \n",
       "       2010-05-03  71626.00  25.641  78.626  4.343  4.343  19.556  35.688   \n",
       "       2010-05-04  70169.20  25.641  78.626  4.343  4.343  19.556  35.688   \n",
       "\n",
       "                   Mkt-RF     SMB     HML       RF  \n",
       "PERMNO DATE                                         \n",
       "10001  2010-04-27 -0.0234  0.0012 -0.0135  0.00001  \n",
       "       2010-04-29  0.0134  0.0043  0.0056  0.00001  \n",
       "       2010-04-30 -0.0172 -0.0097 -0.0088  0.00001  \n",
       "       2010-05-03  0.0136  0.0062  0.0060  0.00001  \n",
       "       2010-05-04 -0.0250 -0.0056 -0.0092  0.00001  "
      ]
     },
     "execution_count": 22,
     "metadata": {},
     "output_type": "execute_result"
    }
   ],
   "source": [
    "df.set_index(['PERMNO', 'DATE'], inplace=True)\n",
    "df.sort_index(inplace=True)\n",
    "df = df.iloc[df.index.get_level_values('DATE') >= '2004-01-01']\n",
    "df1 = df.iloc[df.index.get_level_values('DATE') >= '2016-01-01']\n",
    "df = df.iloc[df.index.get_level_values('DATE') < '2016-01-01']\n",
    "df.head()"
   ]
  },
  {
   "cell_type": "markdown",
   "id": "8cc2985e",
   "metadata": {},
   "source": [
    "# 2. Fundamental Investing Strategies"
   ]
  },
  {
   "cell_type": "markdown",
   "id": "986532e4",
   "metadata": {},
   "source": [
    "## 2.1 Value Investing vs Growth Investing"
   ]
  },
  {
   "cell_type": "code",
   "execution_count": 23,
   "id": "c12225ab",
   "metadata": {},
   "outputs": [],
   "source": [
    "strat = df.copy()\n",
    "\n",
    "# Calculate P/E using market value and net income. Since MV is in thousands,\n",
    "# and net income is in millions, we divide by 1000.\n",
    "strat['PE'] = strat['MV'] / strat['NI'] / 1000\n",
    "\n",
    "# Rank the PE so that firms with smaller PE on each day has a smaller (closer to 0) rank\n",
    "# Shift the PE by one day to avoid look-ahead bias\n",
    "strat['PEValueRank'] = strat['PE'].shift().groupby('DATE').rank()\n",
    "\n",
    "# Rank the PE so that firms with larger PE on each day has a smaller (closer to 0) rank\n",
    "strat['PEGrowthRank'] = strat['PE'].shift().groupby('DATE').rank(ascending=False)\n",
    "\n",
    "# Select the top 50 value stocks\n",
    "PEValue50 = strat.loc[strat['PEValueRank'] < 50]\n",
    "\n",
    "# Select the top 50 growth stocks\n",
    "PEGrowth50 = strat.loc[strat['PEGrowthRank'] < 50]\n",
    "\n",
    "# Construct an equal-weighted value portfolio everyday with top 50 value stocks\n",
    "PEValuePort = PEValue50['RETX'].groupby('DATE').sum()/50\n",
    "PEValuePort = PEValuePort.to_frame().merge(ff['RF'], how='left', on='DATE')\n",
    "PEValuePort['ExcessRet'] = PEValuePort['RETX'] - PEValuePort['RF']\n",
    "\n",
    "# Construct an equal-weighted growth portfolio everyday with top 50 growth stocks\n",
    "PEGrowthPort = PEGrowth50['RETX'].groupby('DATE').sum()/50\n",
    "PEGrowthPort = PEGrowthPort.to_frame().merge(ff['RF'], how='left', on='DATE')\n",
    "PEGrowthPort['ExcessRet'] = PEGrowthPort['RETX'] - PEGrowthPort['RF']"
   ]
  },
  {
   "cell_type": "code",
   "execution_count": 24,
   "id": "d713b084",
   "metadata": {},
   "outputs": [],
   "source": [
    "PEValueRet = PEValuePort['RETX'].mean()\n",
    "PEValueVol = PEValuePort['RETX'].std()\n",
    "PEGrowthRet = PEGrowthPort['RETX'].mean()\n",
    "PEGrowthVol = PEGrowthPort['RETX'].std()"
   ]
  },
  {
   "cell_type": "code",
   "execution_count": 25,
   "id": "c7511e38",
   "metadata": {
    "scrolled": true
   },
   "outputs": [
    {
     "name": "stdout",
     "output_type": "stream",
     "text": [
      "Annulized return for PE Value portfolio: 1.1387\n",
      "Annulized return for PE Growth portfolio: 0.3128\n",
      "Annulized volatility for PE Value portfolio: 3.0293\n",
      "Annulized volatility for PE Growth portfolio: 0.3685\n"
     ]
    }
   ],
   "source": [
    "print('Annulized return for PE Value portfolio: %2.4f' %(PEValueRet * 252))\n",
    "print('Annulized return for PE Growth portfolio: %2.4f' %(PEGrowthRet * 252))\n",
    "print('Annulized volatility for PE Value portfolio: %2.4f' %(PEValueVol * np.sqrt(252)))\n",
    "print('Annulized volatility for PE Growth portfolio: %2.4f' %(PEGrowthVol * np.sqrt(252)))"
   ]
  },
  {
   "cell_type": "code",
   "execution_count": 26,
   "id": "d26cc0f3",
   "metadata": {
    "scrolled": true
   },
   "outputs": [
    {
     "name": "stdout",
     "output_type": "stream",
     "text": [
      "Annulized Sharpe Ratio for PE Value portfolio: 0.3717\n",
      "Annulized Sharpe Ratio for PE Growth portfolio: 0.8144\n"
     ]
    }
   ],
   "source": [
    "PEValueSharpe = PEValuePort['ExcessRet'].mean() / PEValueVol * np.sqrt(252)\n",
    "PEGrowthSharpe = PEGrowthPort['ExcessRet'].mean() / PEGrowthVol * np.sqrt(252)\n",
    "print('Annulized Sharpe Ratio for PE Value portfolio: %2.4f' %(PEValueSharpe))\n",
    "print('Annulized Sharpe Ratio for PE Growth portfolio: %2.4f' %(PEGrowthSharpe))"
   ]
  },
  {
   "cell_type": "markdown",
   "id": "84072133",
   "metadata": {},
   "source": [
    "## 2.2 Investing in high earnings relative to total assets"
   ]
  },
  {
   "cell_type": "code",
   "execution_count": 27,
   "id": "836abcfa",
   "metadata": {},
   "outputs": [],
   "source": [
    "strat = df.copy()\n",
    "strat['earnings'] = strat['IB'] / strat['Asset'] / 1000\n",
    "strat['earningsRank'] = strat['earnings'].shift().groupby('DATE').rank(ascending=False)\n",
    "earnings50 = strat.loc[strat['earningsRank'] < 50]\n",
    "earningsPort = earnings50['RETX'].groupby('DATE').sum()/50"
   ]
  },
  {
   "cell_type": "code",
   "execution_count": 28,
   "id": "d8b756fc",
   "metadata": {},
   "outputs": [],
   "source": [
    "earningsStat = earningsPort.describe()"
   ]
  },
  {
   "cell_type": "code",
   "execution_count": 29,
   "id": "8e56f086",
   "metadata": {},
   "outputs": [],
   "source": [
    "earningsRet = earningsStat['mean']\n",
    "earningsVol = earningsStat['std']"
   ]
  },
  {
   "cell_type": "code",
   "execution_count": 30,
   "id": "fff70636",
   "metadata": {
    "scrolled": false
   },
   "outputs": [
    {
     "name": "stdout",
     "output_type": "stream",
     "text": [
      "Annulized return for high earning portfolio: 0.4290\n",
      "Annulized volatility for high earning portfolio: 0.2808\n"
     ]
    }
   ],
   "source": [
    "print('Annulized return for high earning portfolio: %2.4f' %(earningsRet * 252))\n",
    "print('Annulized volatility for high earning portfolio: %2.4f' %(earningsVol * np.sqrt(252)))"
   ]
  },
  {
   "cell_type": "code",
   "execution_count": 31,
   "id": "9ff087f4",
   "metadata": {},
   "outputs": [
    {
     "name": "stdout",
     "output_type": "stream",
     "text": [
      "Annulized Sharpe Ratio for high earning portfolio: 1.4824\n"
     ]
    }
   ],
   "source": [
    "earningsPort = earningsPort.to_frame().merge(ff['RF'], how='left', on='DATE')\n",
    "earningsPort['ExcessRet'] = earningsPort['RETX'] - earningsPort['RF']\n",
    "earningsSharpe = earningsPort['ExcessRet'].mean() / earningsVol * np.sqrt(252)\n",
    "print('Annulized Sharpe Ratio for high earning portfolio: %2.4f' %(earningsSharpe))"
   ]
  },
  {
   "cell_type": "markdown",
   "id": "87d16f57",
   "metadata": {},
   "source": [
    "## 2.3 Investing in high profit margins"
   ]
  },
  {
   "cell_type": "code",
   "execution_count": 32,
   "id": "79c335ab",
   "metadata": {},
   "outputs": [],
   "source": [
    "strat = df.copy()\n",
    "strat['margin'] = strat['NI'] / strat['SALE'] / 1000\n",
    "strat['marginRank'] = strat['margin'].shift().groupby('DATE').rank(ascending=False)\n",
    "margin50 = strat.loc[strat['marginRank'] < 50]\n",
    "marginPort = margin50['RETX'].groupby('DATE').sum()/50"
   ]
  },
  {
   "cell_type": "code",
   "execution_count": 33,
   "id": "944550d4",
   "metadata": {},
   "outputs": [],
   "source": [
    "marginStat = marginPort.describe()"
   ]
  },
  {
   "cell_type": "code",
   "execution_count": 34,
   "id": "8e034682",
   "metadata": {},
   "outputs": [],
   "source": [
    "marginRet = marginStat['mean']\n",
    "marginVol = marginStat['std']"
   ]
  },
  {
   "cell_type": "code",
   "execution_count": 35,
   "id": "0d01a953",
   "metadata": {
    "scrolled": true
   },
   "outputs": [
    {
     "name": "stdout",
     "output_type": "stream",
     "text": [
      "Annulized return for high margin portfolio: 0.7306\n",
      "Annulized volatility for high margin portfolio: 0.5185\n"
     ]
    }
   ],
   "source": [
    "print('Annulized return for high margin portfolio: %2.4f' %(marginRet * 252))\n",
    "print('Annulized volatility for high margin portfolio: %2.4f' %(marginVol * np.sqrt(252)))"
   ]
  },
  {
   "cell_type": "code",
   "execution_count": 36,
   "id": "cdb9f4f0",
   "metadata": {},
   "outputs": [
    {
     "name": "stdout",
     "output_type": "stream",
     "text": [
      "Annulized Sharpe Ratio for profitable portfolio: 1.3845\n"
     ]
    }
   ],
   "source": [
    "marginPort = marginPort.to_frame().merge(ff['RF'], how='left', on='DATE')\n",
    "marginPort['ExcessRet'] = marginPort['RETX'] - marginPort['RF']\n",
    "marginSharpe = marginPort['ExcessRet'].mean() / marginVol * np.sqrt(252)\n",
    "print('Annulized Sharpe Ratio for profitable portfolio: %2.4f' %(marginSharpe))"
   ]
  },
  {
   "cell_type": "markdown",
   "id": "725a41e5",
   "metadata": {},
   "source": [
    "## 2.4 Investing in small companies (SMB)"
   ]
  },
  {
   "cell_type": "code",
   "execution_count": 37,
   "id": "7a4ccc56",
   "metadata": {},
   "outputs": [],
   "source": [
    "strat = df.copy()\n",
    "strat['sizeRank'] = strat['Asset'].shift().groupby('DATE').rank()\n",
    "size50 = strat.loc[strat['sizeRank'] < 50]\n",
    "sizePort = size50['RETX'].groupby('DATE').sum()/50"
   ]
  },
  {
   "cell_type": "code",
   "execution_count": 38,
   "id": "21d12301",
   "metadata": {},
   "outputs": [],
   "source": [
    "sizeStat = sizePort.describe()"
   ]
  },
  {
   "cell_type": "code",
   "execution_count": 39,
   "id": "e5be7b66",
   "metadata": {},
   "outputs": [],
   "source": [
    "sizeRet = sizeStat['mean']\n",
    "sizeVol = sizeStat['std']"
   ]
  },
  {
   "cell_type": "code",
   "execution_count": 40,
   "id": "14b7dad0",
   "metadata": {
    "scrolled": true
   },
   "outputs": [
    {
     "name": "stdout",
     "output_type": "stream",
     "text": [
      "Annulized return for small company portfolio: 2.2978\n",
      "Annulized volatility for small company portfolio: 0.9050\n"
     ]
    }
   ],
   "source": [
    "print('Annulized return for small company portfolio: %2.4f' %(sizeRet * 252))\n",
    "print('Annulized volatility for small company portfolio: %2.4f' %(sizeVol * np.sqrt(252)))"
   ]
  },
  {
   "cell_type": "code",
   "execution_count": 41,
   "id": "6290f056",
   "metadata": {},
   "outputs": [
    {
     "name": "stdout",
     "output_type": "stream",
     "text": [
      "Annulized Sharpe Ratio for small company portfolio: 2.5248\n"
     ]
    }
   ],
   "source": [
    "sizePort = sizePort.to_frame().merge(ff['RF'], how='left', on='DATE')\n",
    "sizePort['ExcessRet'] = sizePort['RETX'] - sizePort['RF']\n",
    "sizeSharpe = sizePort['ExcessRet'].mean() / sizeVol * np.sqrt(252)\n",
    "print('Annulized Sharpe Ratio for small company portfolio: %2.4f' %(sizeSharpe))"
   ]
  },
  {
   "cell_type": "markdown",
   "id": "66588e19",
   "metadata": {},
   "source": [
    "# 3. Technical Indicators"
   ]
  },
  {
   "cell_type": "markdown",
   "id": "00f0a305",
   "metadata": {},
   "source": [
    "# 3.1 Double Moving Average (DMA)"
   ]
  },
  {
   "cell_type": "code",
   "execution_count": 42,
   "id": "d0305e35",
   "metadata": {},
   "outputs": [],
   "source": [
    "# Compute the 10-, 50-, and 100-day moving averages\n",
    "strat = df.copy()\n",
    "strat['10ma'] = strat.groupby('PERMNO')['PRC'].rolling(10).mean().droplevel(0)\n",
    "strat['50ma'] = strat.groupby('PERMNO')['PRC'].rolling(50).mean().droplevel(0)\n",
    "strat['100ma'] = strat.groupby('PERMNO')['PRC'].rolling(100).mean().droplevel(0)\n",
    "\n",
    "strat['7ma'] = strat.groupby('PERMNO')['PRC'].rolling(7).mean().droplevel(0)\n",
    "strat['21ma'] = strat.groupby('PERMNO')['PRC'].rolling(21).mean().droplevel(0)"
   ]
  },
  {
   "cell_type": "code",
   "execution_count": 43,
   "id": "12bb7cc9",
   "metadata": {},
   "outputs": [],
   "source": [
    "# Set signal to 1 for days the short MA exceeds the long MA, and -1 if the former is less than the latter.\n",
    "strat['signal'] = 0\n",
    "strat.loc[strat['10ma'] > strat['50ma'], 'signal'] = 1\n",
    "strat.loc[strat['10ma'] < strat['50ma'], 'signal'] = -1\n",
    "\n",
    "# Calculate daily strategy returns\n",
    "strat['signal'] = strat.groupby('PERMNO')['signal'].shift(1)\n",
    "strat['dmaRet'] = strat['RET'] * strat['signal']\n",
    "\n",
    "# Trade on the most liquid stocks\n",
    "strat['lagSignal'] = strat['signal'].shift()\n",
    "stratfilter = strat.loc[((strat['signal'] > 0) & (strat['lagSignal'] < 0))|\n",
    "                     ((strat['signal'] < 0) & (strat['lagSignal'] > 0))]\n",
    "# stratLong = strat.loc[strat['lagSignal'] < 0]\n",
    "stratfilter['volRank'] = stratfilter['VOL'].groupby('DATE').rank(ascending=False)\n",
    "dmaPort = stratfilter.loc[stratfilter['volRank'] < 50]['dmaRet'].groupby('DATE').sum()/50\n",
    "\n",
    "dmaRet = dmaPort.mean()\n",
    "dmaVol = dmaPort.std()"
   ]
  },
  {
   "cell_type": "code",
   "execution_count": 44,
   "id": "59662407",
   "metadata": {},
   "outputs": [
    {
     "name": "stdout",
     "output_type": "stream",
     "text": [
      "Annulized return for DMA portfolio: 0.1028\n",
      "Annulized volatility for DMA portfolio: 0.1699\n"
     ]
    }
   ],
   "source": [
    "print('Annulized return for DMA portfolio: %2.4f' %(dmaRet * 252))\n",
    "print('Annulized volatility for DMA portfolio: %2.4f' %(dmaVol * np.sqrt(252)))"
   ]
  },
  {
   "cell_type": "code",
   "execution_count": 45,
   "id": "34e0c626",
   "metadata": {},
   "outputs": [
    {
     "name": "stdout",
     "output_type": "stream",
     "text": [
      "Annulized Sharpe Ratio for DMA portfolio: 0.5300\n"
     ]
    }
   ],
   "source": [
    "dmaPort = dmaPort.to_frame().merge(ff['RF'], how='left', on='DATE')\n",
    "dmaPort['ExcessRet'] = dmaPort['dmaRet'] - dmaPort['RF']\n",
    "dmaSharpe = dmaPort['ExcessRet'].mean() / dmaVol * np.sqrt(252)\n",
    "print('Annulized Sharpe Ratio for DMA portfolio: %2.4f' %(dmaSharpe))"
   ]
  },
  {
   "cell_type": "code",
   "execution_count": null,
   "id": "7b59d271",
   "metadata": {},
   "outputs": [],
   "source": []
  },
  {
   "cell_type": "code",
   "execution_count": 46,
   "id": "0e9490b9",
   "metadata": {
    "scrolled": true
   },
   "outputs": [
    {
     "name": "stdout",
     "output_type": "stream",
     "text": [
      "Annulized return for DMA portfolio: -0.0803\n",
      "Annulized volatility for DMA portfolio: 0.1579\n"
     ]
    }
   ],
   "source": [
    "# Test the 10-, 100-day strategy\n",
    "# Set signal to 1 for days the short MA exceeds the long MA, and -1 if the former is less than the latter.\n",
    "strat['signal'] = 0\n",
    "strat.loc[strat['10ma'] > strat['100ma'], 'signal'] = 1\n",
    "strat.loc[strat['10ma'] < strat['100ma'], 'signal'] = -1\n",
    "\n",
    "# Calculate daily strategy returns\n",
    "strat['signal'] = strat.groupby('PERMNO')['signal'].shift(1)\n",
    "strat['dmaRet'] = strat['RET'] * strat['signal']\n",
    "\n",
    "# Trade on the most liquid stocks\n",
    "strat['lagSignal'] = strat['signal'].shift()\n",
    "stratfilter = strat.loc[((strat['signal'] > 0) & (strat['lagSignal'] < 0))|\n",
    "                     ((strat['signal'] < 0) & (strat['lagSignal'] > 0))]\n",
    "stratfilter['volRank'] = stratfilter['VOL'].groupby('DATE').rank(ascending=False)\n",
    "dmaPort = stratfilter.loc[stratfilter['volRank'] < 50]['dmaRet'].groupby('DATE').sum()/50\n",
    "\n",
    "dmaRet = dmaPort.mean()\n",
    "dmaVol = dmaPort.std()\n",
    "print('Annulized return for DMA portfolio: %2.4f' %(dmaRet * 252))\n",
    "print('Annulized volatility for DMA portfolio: %2.4f' %(dmaVol * np.sqrt(252)))"
   ]
  },
  {
   "cell_type": "code",
   "execution_count": 47,
   "id": "c8530d66",
   "metadata": {},
   "outputs": [
    {
     "name": "stdout",
     "output_type": "stream",
     "text": [
      "Annulized Sharpe Ratio for DMA portfolio: -0.5899\n"
     ]
    }
   ],
   "source": [
    "dmaPort = dmaPort.to_frame().merge(ff['RF'], how='left', on='DATE')\n",
    "dmaPort['ExcessRet'] = dmaPort['dmaRet'] - dmaPort['RF']\n",
    "dmaSharpe = dmaPort['ExcessRet'].mean() / dmaVol * np.sqrt(252)\n",
    "print('Annulized Sharpe Ratio for DMA portfolio: %2.4f' %(dmaSharpe))"
   ]
  },
  {
   "cell_type": "code",
   "execution_count": null,
   "id": "dede4d99",
   "metadata": {},
   "outputs": [],
   "source": []
  },
  {
   "cell_type": "code",
   "execution_count": 48,
   "id": "d853efeb",
   "metadata": {},
   "outputs": [
    {
     "name": "stdout",
     "output_type": "stream",
     "text": [
      "Annulized return for DMA portfolio: 0.2215\n",
      "Annulized volatility for DMA portfolio: 0.2731\n"
     ]
    }
   ],
   "source": [
    "# Test the 7-, 21-day strategy\n",
    "# Set signal to 1 for days the short MA exceeds the long MA, and -1 if the former is less than the latter.\n",
    "strat['signal'] = 0\n",
    "strat.loc[strat['7ma'] > strat['21ma'], 'signal'] = 1\n",
    "strat.loc[strat['7ma'] < strat['21ma'], 'signal'] = -1\n",
    "\n",
    "# Calculate daily strategy returns\n",
    "strat['signal'] = strat.groupby('PERMNO')['signal'].shift(1)\n",
    "strat['dmaRet'] = strat['RET'] * strat['signal']\n",
    "\n",
    "# Trade on the most liquid stocks\n",
    "strat['lagSignal'] = strat['signal'].shift()\n",
    "stratfilter = strat.loc[((strat['signal'] > 0) & (strat['lagSignal'] < 0))|\n",
    "                     ((strat['signal'] < 0) & (strat['lagSignal'] > 0))]\n",
    "stratfilter['volRank'] = stratfilter['VOL'].groupby('DATE').rank(ascending=False)\n",
    "dmaPort = stratfilter.loc[stratfilter['volRank'] < 50]['dmaRet'].groupby('DATE').sum()/50\n",
    "\n",
    "dmaRet = dmaPort.mean()\n",
    "dmaVol = dmaPort.std()\n",
    "print('Annulized return for DMA portfolio: %2.4f' %(dmaRet * 252))\n",
    "print('Annulized volatility for DMA portfolio: %2.4f' %(dmaVol * np.sqrt(252)))"
   ]
  },
  {
   "cell_type": "code",
   "execution_count": 49,
   "id": "6555a17a",
   "metadata": {},
   "outputs": [
    {
     "name": "stdout",
     "output_type": "stream",
     "text": [
      "Annulized Sharpe Ratio for DMA portfolio: 0.7644\n"
     ]
    }
   ],
   "source": [
    "dmaPort = dmaPort.to_frame().merge(ff['RF'], how='left', on='DATE')\n",
    "dmaPort['ExcessRet'] = dmaPort['dmaRet'] - dmaPort['RF']\n",
    "dmaSharpe = dmaPort['ExcessRet'].mean() / dmaVol * np.sqrt(252)\n",
    "print('Annulized Sharpe Ratio for DMA portfolio: %2.4f' %(dmaSharpe))"
   ]
  },
  {
   "cell_type": "markdown",
   "id": "1cbe2ad9",
   "metadata": {},
   "source": [
    "## 3.2 Double Exponential Moving Average"
   ]
  },
  {
   "cell_type": "code",
   "execution_count": 50,
   "id": "b870f201",
   "metadata": {},
   "outputs": [],
   "source": [
    "# Calculate Exponential Moving Averages\n",
    "strat = df.copy()\n",
    "strat['ema_10'] = strat.groupby('PERMNO')['PRC'].transform(lambda x: x.ewm(span=10, adjust=False).mean())\n",
    "strat['ema_50'] = strat.groupby('PERMNO')['PRC'].transform(lambda x: x.ewm(span=50, adjust=False).mean())\n",
    "\n",
    "# Calculate the Double EMAs for the same periods\n",
    "strat['dema_10'] = strat.groupby('PERMNO')['ema_10'].transform(lambda x: x.ewm(span=10, adjust=False).mean())\n",
    "strat['dema_50'] = strat.groupby('PERMNO')['ema_50'].transform(lambda x: x.ewm(span=50, adjust=False).mean())\n",
    "\n",
    "# Calculate DEMA\n",
    "strat['dema_10_final'] = 2 * strat['ema_10'] - strat['dema_10']\n",
    "strat['dema_50_final'] = 2 * strat['ema_50'] - strat['dema_50']"
   ]
  },
  {
   "cell_type": "code",
   "execution_count": 51,
   "id": "0e1c33cd",
   "metadata": {},
   "outputs": [
    {
     "name": "stdout",
     "output_type": "stream",
     "text": [
      "Annulized return for DEMA portfolio: 0.3094\n",
      "Annulized volatility for DEMA portfolio: 0.1868\n"
     ]
    }
   ],
   "source": [
    "# Test the trategy\n",
    "# Set signal to 1 for days the short MA exceeds the long MA, and -1 if the former is less than the latter.\n",
    "strat['signal'] = 0\n",
    "strat.loc[strat['dema_10_final'] > strat['dema_50_final'], 'signal'] = 1\n",
    "strat.loc[strat['dema_10_final'] < strat['dema_50_final'], 'signal'] = -1\n",
    "\n",
    "# Calculate daily strategy returns\n",
    "strat['signal'] = strat.groupby('PERMNO')['signal'].shift(1)\n",
    "strat['demaRet'] = strat['RET'] * strat['signal']\n",
    "\n",
    "# Trade on the most liquid stocks\n",
    "strat['lagSignal'] = strat['signal'].shift()\n",
    "stratfilter = strat.loc[((strat['signal'] > 0) & (strat['lagSignal'] < 0))|\n",
    "                     ((strat['signal'] < 0) & (strat['lagSignal'] > 0))]\n",
    "stratfilter['volRank'] = stratfilter['VOL'].groupby('DATE').rank(ascending=False)\n",
    "demaPort = stratfilter.loc[stratfilter['volRank'] < 50]['demaRet'].groupby('DATE').sum()/50\n",
    "\n",
    "demaRet = demaPort.mean()\n",
    "demaVol = demaPort.std()\n",
    "print('Annulized return for DEMA portfolio: %2.4f' %(demaRet * 252))\n",
    "print('Annulized volatility for DEMA portfolio: %2.4f' %(demaVol * np.sqrt(252)))"
   ]
  },
  {
   "cell_type": "code",
   "execution_count": 52,
   "id": "e36a1b11",
   "metadata": {},
   "outputs": [
    {
     "name": "stdout",
     "output_type": "stream",
     "text": [
      "Annulized Sharpe Ratio for DEMA portfolio: 1.5877\n"
     ]
    }
   ],
   "source": [
    "demaPort = demaPort.to_frame().merge(ff['RF'], how='left', on='DATE')\n",
    "demaPort['ExcessRet'] = demaPort['demaRet'] - demaPort['RF']\n",
    "demaSharpe = demaPort['ExcessRet'].mean() / demaVol * np.sqrt(252)\n",
    "print('Annulized Sharpe Ratio for DEMA portfolio: %2.4f' %(demaSharpe))"
   ]
  },
  {
   "cell_type": "markdown",
   "id": "3182159e",
   "metadata": {},
   "source": [
    "## 3.3 Guppy Multiple Moving Average (GMMA)"
   ]
  },
  {
   "cell_type": "code",
   "execution_count": 53,
   "id": "f86f9c7a",
   "metadata": {},
   "outputs": [],
   "source": [
    "# Compute the 10-, 50-, and 100-day moving averages\n",
    "strat = df.copy()\n",
    "strat['ema_3'] = strat.groupby('PERMNO')['PRC'].transform(lambda x: x.ewm(span=3, adjust=False).mean())\n",
    "strat['ema_5'] = strat.groupby('PERMNO')['PRC'].transform(lambda x: x.ewm(span=5, adjust=False).mean())\n",
    "strat['ema_8'] = strat.groupby('PERMNO')['PRC'].transform(lambda x: x.ewm(span=8, adjust=False).mean())\n",
    "strat['ema_10'] = strat.groupby('PERMNO')['PRC'].transform(lambda x: x.ewm(span=10, adjust=False).mean())\n",
    "strat['ema_12'] = strat.groupby('PERMNO')['PRC'].transform(lambda x: x.ewm(span=12, adjust=False).mean())\n",
    "strat['ema_15'] = strat.groupby('PERMNO')['PRC'].transform(lambda x: x.ewm(span=15, adjust=False).mean())\n",
    "\n",
    "strat['ema_30'] = strat.groupby('PERMNO')['PRC'].transform(lambda x: x.ewm(span=30, adjust=False).mean())\n",
    "strat['ema_35'] = strat.groupby('PERMNO')['PRC'].transform(lambda x: x.ewm(span=35, adjust=False).mean())\n",
    "strat['ema_40'] = strat.groupby('PERMNO')['PRC'].transform(lambda x: x.ewm(span=40, adjust=False).mean())\n",
    "strat['ema_45'] = strat.groupby('PERMNO')['PRC'].transform(lambda x: x.ewm(span=45, adjust=False).mean())\n",
    "strat['ema_50'] = strat.groupby('PERMNO')['PRC'].transform(lambda x: x.ewm(span=50, adjust=False).mean())\n",
    "strat['ema_60'] = strat.groupby('PERMNO')['PRC'].transform(lambda x: x.ewm(span=60, adjust=False).mean())"
   ]
  },
  {
   "cell_type": "code",
   "execution_count": 54,
   "id": "b7b15a6d",
   "metadata": {},
   "outputs": [
    {
     "name": "stdout",
     "output_type": "stream",
     "text": [
      "Annulized return for MACD portfolio: -0.0012\n",
      "Annulized volatility for MACD portfolio: 0.0250\n"
     ]
    }
   ],
   "source": [
    "# Compute the minimum and maximum for each group of EMA for easier signal construction.\n",
    "strat['low_short'] = strat[['ema_3','ema_5','ema_8','ema_10','ema_12','ema_15']].min(axis=1)\n",
    "strat['high_short'] = strat[['ema_3','ema_5','ema_8','ema_10','ema_12','ema_15']].max(axis=1)\n",
    "strat['low_long'] = strat[['ema_30','ema_35','ema_40','ema_45','ema_50','ema_60']].min(axis=1)\n",
    "strat['high_long'] = strat[['ema_30','ema_35','ema_40','ema_45','ema_50','ema_60']].max(axis=1)\n",
    "\n",
    "# Set signal to 1 for days the short MA exceeds the long MA, and -1 if the former is less than the latter.\n",
    "strat['signal'] = 0\n",
    "strat.loc[strat['low_short'] > strat['high_long'], 'signal'] = 1\n",
    "strat.loc[strat['high_short'] < strat['low_long'], 'signal'] = -1\n",
    "\n",
    "# Calculate daily strategy returns\n",
    "strat['signal'] = strat.groupby('PERMNO')['signal'].shift(1)\n",
    "strat['gmmaRet'] = strat['RET'] * strat['signal']\n",
    "\n",
    "# Trade on the most liquid stocks\n",
    "strat['lagSignal'] = strat['signal'].shift()\n",
    "stratfilter = strat.loc[((strat['signal'] > 0) & (strat['lagSignal'] < 0))|\n",
    "                     ((strat['signal'] < 0) & (strat['lagSignal'] > 0))]\n",
    "stratfilter['volRank'] = stratfilter['VOL'].groupby('DATE').rank(ascending=False)\n",
    "gmmaPort = stratfilter.loc[stratfilter['volRank'] < 50]['gmmaRet'].groupby('DATE').sum()/50\n",
    "\n",
    "gmmaRet = gmmaPort.mean()\n",
    "gmmaVol = gmmaPort.std()\n",
    "\n",
    "print('Annulized return for MACD portfolio: %2.4f' %(gmmaRet * 252))\n",
    "print('Annulized volatility for MACD portfolio: %2.4f' %(gmmaVol * np.sqrt(252)))"
   ]
  },
  {
   "cell_type": "code",
   "execution_count": 55,
   "id": "2faab477",
   "metadata": {},
   "outputs": [
    {
     "name": "stdout",
     "output_type": "stream",
     "text": [
      "Annulized Sharpe Ratio for GMMA portfolio: -0.6351\n"
     ]
    }
   ],
   "source": [
    "gmmaPort = gmmaPort.to_frame().merge(ff['RF'], how='left', on='DATE')\n",
    "gmmaPort['ExcessRet'] = gmmaPort['gmmaRet'] - gmmaPort['RF']\n",
    "gmmaSharpe = gmmaPort['ExcessRet'].mean() / gmmaVol * np.sqrt(252)\n",
    "print('Annulized Sharpe Ratio for GMMA portfolio: %2.4f' %(gmmaSharpe))"
   ]
  },
  {
   "cell_type": "markdown",
   "id": "ab9be264",
   "metadata": {},
   "source": [
    "## 3.4 Moving Average Convergance/Divergence (MACD)"
   ]
  },
  {
   "cell_type": "code",
   "execution_count": 56,
   "id": "d335d31d",
   "metadata": {},
   "outputs": [],
   "source": [
    "# Constructing 12- and 26-day EMA\n",
    "strat = df.copy()\n",
    "strat['ema_12'] = strat.groupby('PERMNO')['PRC'].transform(lambda x: x.ewm(span=12, adjust=False).mean())\n",
    "strat['ema_26'] = strat.groupby('PERMNO')['PRC'].transform(lambda x: x.ewm(span=26, adjust=False).mean())\n",
    "\n",
    "strat['MACD'] = strat['ema_12'] - strat['ema_26']\n",
    "strat['signal_line'] = strat.groupby('PERMNO')['MACD'].transform(lambda x: x.ewm(span=9, adjust=False).mean())"
   ]
  },
  {
   "cell_type": "code",
   "execution_count": 57,
   "id": "1ec6dd82",
   "metadata": {},
   "outputs": [
    {
     "name": "stdout",
     "output_type": "stream",
     "text": [
      "Annulized return for MACD portfolio: 0.3787\n",
      "Annulized volatility for MACD portfolio: 0.1947\n"
     ]
    }
   ],
   "source": [
    "# Set signal to 1 for days the short MA exceeds the long MA, and -1 if the former is less than the latter.\n",
    "strat['signal'] = 0\n",
    "strat.loc[strat['MACD'] > strat['signal_line'], 'signal'] = 1\n",
    "strat.loc[strat['MACD'] < strat['signal_line'], 'signal'] = -1\n",
    "\n",
    "# Calculate daily strategy returns\n",
    "strat['signal'] = strat.groupby('PERMNO')['signal'].shift(1)\n",
    "strat['macdRet'] = strat['RET'] * strat['signal']\n",
    "\n",
    "# Trade on the most liquid stocks\n",
    "strat['lagSignal'] = strat['signal'].shift()\n",
    "stratfilter = strat.loc[((strat['signal'] > 0) & (strat['lagSignal'] < 0))|\n",
    "                     ((strat['signal'] < 0) & (strat['lagSignal'] > 0))]\n",
    "stratfilter['volRank'] = stratfilter['VOL'].groupby('DATE').rank(ascending=False)\n",
    "macdPort = stratfilter.loc[stratfilter['volRank'] < 50]['macdRet'].groupby('DATE').sum()/50\n",
    "\n",
    "macdRet = macdPort.mean()\n",
    "macdVol = macdPort.std()\n",
    "print('Annulized return for MACD portfolio: %2.4f' %(macdRet * 252))\n",
    "print('Annulized volatility for MACD portfolio: %2.4f' %(macdVol * np.sqrt(252)))"
   ]
  },
  {
   "cell_type": "code",
   "execution_count": 58,
   "id": "d90e18d3",
   "metadata": {},
   "outputs": [
    {
     "name": "stdout",
     "output_type": "stream",
     "text": [
      "Annulized Sharpe Ratio for MACD portfolio: 1.8793\n"
     ]
    }
   ],
   "source": [
    "macdPort = macdPort.to_frame().merge(ff['RF'], how='left', on='DATE')\n",
    "macdPort['ExcessRet'] = macdPort['macdRet'] - macdPort['RF']\n",
    "macdSharpe = macdPort['ExcessRet'].mean() / macdVol * np.sqrt(252)\n",
    "print('Annulized Sharpe Ratio for MACD portfolio: %2.4f' %(macdSharpe))"
   ]
  },
  {
   "cell_type": "markdown",
   "id": "59396b22",
   "metadata": {},
   "source": [
    "# 4. Portfolio Optimization"
   ]
  },
  {
   "cell_type": "code",
   "execution_count": 59,
   "id": "db182909",
   "metadata": {},
   "outputs": [
    {
     "data": {
      "text/html": [
       "<div>\n",
       "<style scoped>\n",
       "    .dataframe tbody tr th:only-of-type {\n",
       "        vertical-align: middle;\n",
       "    }\n",
       "\n",
       "    .dataframe tbody tr th {\n",
       "        vertical-align: top;\n",
       "    }\n",
       "\n",
       "    .dataframe thead th {\n",
       "        text-align: right;\n",
       "    }\n",
       "</style>\n",
       "<table border=\"1\" class=\"dataframe\">\n",
       "  <thead>\n",
       "    <tr style=\"text-align: right;\">\n",
       "      <th></th>\n",
       "      <th>value</th>\n",
       "      <th>growth</th>\n",
       "      <th>earning</th>\n",
       "      <th>margin</th>\n",
       "      <th>size</th>\n",
       "      <th>dma</th>\n",
       "      <th>dema</th>\n",
       "      <th>macd</th>\n",
       "    </tr>\n",
       "    <tr>\n",
       "      <th>DATE</th>\n",
       "      <th></th>\n",
       "      <th></th>\n",
       "      <th></th>\n",
       "      <th></th>\n",
       "      <th></th>\n",
       "      <th></th>\n",
       "      <th></th>\n",
       "      <th></th>\n",
       "    </tr>\n",
       "  </thead>\n",
       "  <tbody>\n",
       "    <tr>\n",
       "      <th>2004-01-02</th>\n",
       "      <td>0.003433</td>\n",
       "      <td>0.000854</td>\n",
       "      <td>0.004697</td>\n",
       "      <td>0.003002</td>\n",
       "      <td>0.009850</td>\n",
       "      <td>NaN</td>\n",
       "      <td>NaN</td>\n",
       "      <td>NaN</td>\n",
       "    </tr>\n",
       "    <tr>\n",
       "      <th>2004-01-05</th>\n",
       "      <td>0.018974</td>\n",
       "      <td>0.023399</td>\n",
       "      <td>0.007738</td>\n",
       "      <td>0.016777</td>\n",
       "      <td>0.018314</td>\n",
       "      <td>NaN</td>\n",
       "      <td>NaN</td>\n",
       "      <td>NaN</td>\n",
       "    </tr>\n",
       "    <tr>\n",
       "      <th>2004-01-06</th>\n",
       "      <td>-0.000460</td>\n",
       "      <td>-0.002012</td>\n",
       "      <td>0.013148</td>\n",
       "      <td>0.007376</td>\n",
       "      <td>0.013703</td>\n",
       "      <td>NaN</td>\n",
       "      <td>NaN</td>\n",
       "      <td>NaN</td>\n",
       "    </tr>\n",
       "    <tr>\n",
       "      <th>2004-01-07</th>\n",
       "      <td>0.007343</td>\n",
       "      <td>0.005191</td>\n",
       "      <td>0.006190</td>\n",
       "      <td>0.006431</td>\n",
       "      <td>0.043585</td>\n",
       "      <td>NaN</td>\n",
       "      <td>0.014308</td>\n",
       "      <td>0.014954</td>\n",
       "    </tr>\n",
       "    <tr>\n",
       "      <th>2004-01-08</th>\n",
       "      <td>0.004078</td>\n",
       "      <td>0.010629</td>\n",
       "      <td>0.011629</td>\n",
       "      <td>0.015231</td>\n",
       "      <td>0.002328</td>\n",
       "      <td>NaN</td>\n",
       "      <td>-0.005283</td>\n",
       "      <td>-0.006259</td>\n",
       "    </tr>\n",
       "  </tbody>\n",
       "</table>\n",
       "</div>"
      ],
      "text/plain": [
       "               value    growth   earning    margin      size  dma      dema  \\\n",
       "DATE                                                                          \n",
       "2004-01-02  0.003433  0.000854  0.004697  0.003002  0.009850  NaN       NaN   \n",
       "2004-01-05  0.018974  0.023399  0.007738  0.016777  0.018314  NaN       NaN   \n",
       "2004-01-06 -0.000460 -0.002012  0.013148  0.007376  0.013703  NaN       NaN   \n",
       "2004-01-07  0.007343  0.005191  0.006190  0.006431  0.043585  NaN  0.014308   \n",
       "2004-01-08  0.004078  0.010629  0.011629  0.015231  0.002328  NaN -0.005283   \n",
       "\n",
       "                macd  \n",
       "DATE                  \n",
       "2004-01-02       NaN  \n",
       "2004-01-05       NaN  \n",
       "2004-01-06       NaN  \n",
       "2004-01-07  0.014954  \n",
       "2004-01-08 -0.006259  "
      ]
     },
     "execution_count": 59,
     "metadata": {},
     "output_type": "execute_result"
    }
   ],
   "source": [
    "# Combine returns for all strategies for easy manipulation\n",
    "returns = pd.concat([PEValuePort['RETX'],PEGrowthPort['RETX'],earningsPort['RETX'],marginPort['RETX'],\n",
    "                    sizePort['RETX'],dmaPort['dmaRet'],demaPort['demaRet'], macdPort['macdRet']],\n",
    "                    axis=1, keys=['value','growth','earning','margin','size','dma','dema','macd'])\n",
    "\n",
    "returns.head()"
   ]
  },
  {
   "cell_type": "code",
   "execution_count": 60,
   "id": "85e83d98",
   "metadata": {},
   "outputs": [],
   "source": [
    "# ret is average return for each strategy, and cov_matrix is the covariance matrix\n",
    "ret = np.array([PEValueRet,PEGrowthRet,earningsRet,marginRet,sizeRet,\n",
    "               dmaRet,demaRet,macdRet])\n",
    "rf = ff.loc['2004-01-01':'2015-12-31']['RF'].mean()\n",
    "cov_matrix = returns[['value','growth','earning','margin','size',\n",
    "                      'dma','dema','macd']].cov()\n",
    "cov_matrix = np.array(cov_matrix)"
   ]
  },
  {
   "cell_type": "code",
   "execution_count": 61,
   "id": "7bd2d5f9",
   "metadata": {},
   "outputs": [],
   "source": [
    "# Risk-optimization with risk-free asset for target return.\n",
    "# Return: Portfolio weight, annualized return, volatility (standard deviation), Sharpe Ratio\n",
    "def mean_var_opt(mu, sigma, rf, mu_bar):\n",
    "    lambda_p = (mu_bar - rf) / ((mu - np.ones(len(mu)) * rf).T @ la.inv(sigma) @ (mu - np.ones(len(mu)) * rf))\n",
    "    weight = lambda_p * la.inv(sigma) @ (mu - np.ones(len(mu)) * rf)\n",
    "    ret = weight @ mu + (1 - weight.T @ np.ones(len(mu))) * rf\n",
    "    var = weight.T @ sigma @ weight\n",
    "    std = np.sqrt(var)\n",
    "    return weight, ret, std, (ret - rf)/std"
   ]
  },
  {
   "cell_type": "code",
   "execution_count": 62,
   "id": "802f4025",
   "metadata": {},
   "outputs": [
    {
     "data": {
      "text/plain": [
       "[(array([0.00064648, 0.00342834, 0.02075417, 0.01056583, 0.01799591,\n",
       "         0.00153844, 0.03675351, 0.04632448]),\n",
       "  0.1,\n",
       "  0.024241351893173474,\n",
       "  3.600419937712523)]"
      ]
     },
     "execution_count": 62,
     "metadata": {},
     "output_type": "execute_result"
    }
   ],
   "source": [
    "portSPRes = [mean_var_opt(ret.T * 252, cov_matrix * 252, rf * 252, 0.1)]\n",
    "portSPRes"
   ]
  },
  {
   "cell_type": "code",
   "execution_count": 63,
   "id": "eae0cba6",
   "metadata": {},
   "outputs": [],
   "source": [
    "# Risk-optimization for target return\n",
    "# Return: Portfolio weight, annualized return, volatility (standard deviation), Sharpe Ratio\n",
    "def risk_min(mu, sigma, mu_bar):\n",
    "    a = mu.T @ la.inv(sigma) @ mu\n",
    "    b = mu.T @ la.inv(sigma) @ np.ones(len(mu))\n",
    "    c = np.ones(len(mu)).T @ la.inv(sigma) @ np.ones(len(mu))\n",
    "    lambdas = la.inv([[a,b],[b,c]]) @ [mu_bar, 1]\n",
    "    weight = lambdas[0] * la.inv(sigma) @ mu + lambdas[1] * la.inv(sigma) @ np.ones(len(mu))\n",
    "    ret = weight @ mu\n",
    "    var = [mu_bar, 1] @ la.inv([[a,b],[b,c]]) @ [mu_bar, 1]\n",
    "    std = var ** 0.5\n",
    "    return weight, ret, std, (ret - rf)/std"
   ]
  },
  {
   "cell_type": "code",
   "execution_count": 64,
   "id": "7baed0c5",
   "metadata": {},
   "outputs": [
    {
     "data": {
      "text/plain": [
       "(array([0.00068228, 0.0834857 , 0.21633498, 0.00246293, 0.01472794,\n",
       "        0.10868762, 0.34086846, 0.23275011]),\n",
       " 0.3729999999999998,\n",
       " 0.13257963329624564,\n",
       " 2.813022715134046)"
      ]
     },
     "execution_count": 64,
     "metadata": {},
     "output_type": "execute_result"
    }
   ],
   "source": [
    "risk_min(ret*252, cov_matrix*252,0.373)"
   ]
  },
  {
   "cell_type": "code",
   "execution_count": null,
   "id": "a5c2263a",
   "metadata": {},
   "outputs": [],
   "source": []
  },
  {
   "cell_type": "code",
   "execution_count": 65,
   "id": "b5b1ccef",
   "metadata": {
    "scrolled": true
   },
   "outputs": [
    {
     "name": "stdout",
     "output_type": "stream",
     "text": [
      "Expected annual return: 64.5%\n",
      "Annual volatility: 17.6%\n",
      "Sharpe Ratio: 3.60\n",
      "[0.00468, 0.02484, 0.15038, 0.07656, 0.1304, 0.01115, 0.26632, 0.33567]\n"
     ]
    },
    {
     "data": {
      "text/plain": [
       "[(array([0.00064648, 0.00342834, 0.02075417, 0.01056583, 0.01799591,\n",
       "         0.00153844, 0.03675351, 0.04632448]),\n",
       "  0.1,\n",
       "  0.024241351893173474,\n",
       "  3.600419937712523)]"
      ]
     },
     "execution_count": 65,
     "metadata": {},
     "output_type": "execute_result"
    }
   ],
   "source": [
    "# Maximizing Sharpe Ratio\n",
    "# mu = expected_returns.mean_historical_return(returns, returns_data=True)\n",
    "# S = risk_models.sample_cov(returns, returns_data=True)\n",
    "\n",
    "ef = EfficientFrontier(ret * 252, cov_matrix * 252)\n",
    "weights = ef.max_sharpe(rf*252)\n",
    "maxSharpeRes = ef.portfolio_performance(verbose=True)\n",
    "clean_weights = ef.clean_weights()\n",
    "maxSharpeWt = []\n",
    "for value in clean_weights.values():\n",
    "    maxSharpeWt.append(value)\n",
    "print(maxSharpeWt)\n",
    "portSPRes = [mean_var_opt(ret.T * 252, cov_matrix * 252, rf.mean() * 252, 0.1)]\n",
    "portSPRes"
   ]
  },
  {
   "cell_type": "code",
   "execution_count": 66,
   "id": "8c005298",
   "metadata": {},
   "outputs": [
    {
     "name": "stdout",
     "output_type": "stream",
     "text": [
      "Expected annual return: 37.3%\n",
      "Annual volatility: 13.3%\n",
      "Sharpe Ratio: 2.66\n",
      "[0.00068, 0.08348, 0.21633, 0.00247, 0.01473, 0.10868, 0.34087, 0.23275]\n"
     ]
    }
   ],
   "source": [
    "# Minimizing risk\n",
    "# mu = expected_returns.mean_historical_return(returns, returns_data=True)\n",
    "# S = risk_models.sample_cov(returns, returns_data=True)\n",
    "\n",
    "ef = EfficientFrontier(ret * 252, cov_matrix * 252)\n",
    "weights = ef.min_volatility()\n",
    "minRiskRes = ef.portfolio_performance(verbose=True)\n",
    "clean_weights = ef.clean_weights()\n",
    "minRiskWt = []\n",
    "for value in clean_weights.values():\n",
    "    minRiskWt.append(value)\n",
    "print(minRiskWt)"
   ]
  },
  {
   "cell_type": "code",
   "execution_count": 67,
   "id": "181a73fb",
   "metadata": {},
   "outputs": [
    {
     "data": {
      "text/plain": [
       "[0.00068, 0.08348, 0.21633, 0.00247, 0.01473, 0.10868, 0.34087, 0.23275]"
      ]
     },
     "execution_count": 67,
     "metadata": {},
     "output_type": "execute_result"
    }
   ],
   "source": [
    "minRiskWt"
   ]
  },
  {
   "cell_type": "code",
   "execution_count": 68,
   "id": "438f8cd9",
   "metadata": {},
   "outputs": [
    {
     "data": {
      "text/html": [
       "<div>\n",
       "<style scoped>\n",
       "    .dataframe tbody tr th:only-of-type {\n",
       "        vertical-align: middle;\n",
       "    }\n",
       "\n",
       "    .dataframe tbody tr th {\n",
       "        vertical-align: top;\n",
       "    }\n",
       "\n",
       "    .dataframe thead th {\n",
       "        text-align: right;\n",
       "    }\n",
       "</style>\n",
       "<table border=\"1\" class=\"dataframe\">\n",
       "  <thead>\n",
       "    <tr style=\"text-align: right;\">\n",
       "      <th></th>\n",
       "      <th>value</th>\n",
       "      <th>growth</th>\n",
       "      <th>earning</th>\n",
       "      <th>margin</th>\n",
       "      <th>size</th>\n",
       "      <th>dma</th>\n",
       "      <th>dema</th>\n",
       "      <th>macd</th>\n",
       "      <th>ret</th>\n",
       "      <th>minRiskVal</th>\n",
       "    </tr>\n",
       "    <tr>\n",
       "      <th>DATE</th>\n",
       "      <th></th>\n",
       "      <th></th>\n",
       "      <th></th>\n",
       "      <th></th>\n",
       "      <th></th>\n",
       "      <th></th>\n",
       "      <th></th>\n",
       "      <th></th>\n",
       "      <th></th>\n",
       "      <th></th>\n",
       "    </tr>\n",
       "  </thead>\n",
       "  <tbody>\n",
       "    <tr>\n",
       "      <th>2004-01-02</th>\n",
       "      <td>2.334630e-06</td>\n",
       "      <td>0.000071</td>\n",
       "      <td>0.001016</td>\n",
       "      <td>0.000007</td>\n",
       "      <td>0.000145</td>\n",
       "      <td>NaN</td>\n",
       "      <td>NaN</td>\n",
       "      <td>NaN</td>\n",
       "      <td>0.001242</td>\n",
       "      <td>1.001242</td>\n",
       "    </tr>\n",
       "    <tr>\n",
       "      <th>2004-01-05</th>\n",
       "      <td>1.290200e-05</td>\n",
       "      <td>0.001953</td>\n",
       "      <td>0.001674</td>\n",
       "      <td>0.000041</td>\n",
       "      <td>0.000270</td>\n",
       "      <td>NaN</td>\n",
       "      <td>NaN</td>\n",
       "      <td>NaN</td>\n",
       "      <td>0.003951</td>\n",
       "      <td>1.005199</td>\n",
       "    </tr>\n",
       "    <tr>\n",
       "      <th>2004-01-06</th>\n",
       "      <td>-3.127184e-07</td>\n",
       "      <td>-0.000168</td>\n",
       "      <td>0.002844</td>\n",
       "      <td>0.000018</td>\n",
       "      <td>0.000202</td>\n",
       "      <td>NaN</td>\n",
       "      <td>NaN</td>\n",
       "      <td>NaN</td>\n",
       "      <td>0.002896</td>\n",
       "      <td>1.008110</td>\n",
       "    </tr>\n",
       "    <tr>\n",
       "      <th>2004-01-07</th>\n",
       "      <td>4.992927e-06</td>\n",
       "      <td>0.000433</td>\n",
       "      <td>0.001339</td>\n",
       "      <td>0.000016</td>\n",
       "      <td>0.000642</td>\n",
       "      <td>NaN</td>\n",
       "      <td>0.004877</td>\n",
       "      <td>0.003481</td>\n",
       "      <td>0.010793</td>\n",
       "      <td>1.018990</td>\n",
       "    </tr>\n",
       "    <tr>\n",
       "      <th>2004-01-08</th>\n",
       "      <td>2.773312e-06</td>\n",
       "      <td>0.000887</td>\n",
       "      <td>0.002516</td>\n",
       "      <td>0.000038</td>\n",
       "      <td>0.000034</td>\n",
       "      <td>NaN</td>\n",
       "      <td>-0.001801</td>\n",
       "      <td>-0.001457</td>\n",
       "      <td>0.000220</td>\n",
       "      <td>1.019214</td>\n",
       "    </tr>\n",
       "    <tr>\n",
       "      <th>...</th>\n",
       "      <td>...</td>\n",
       "      <td>...</td>\n",
       "      <td>...</td>\n",
       "      <td>...</td>\n",
       "      <td>...</td>\n",
       "      <td>...</td>\n",
       "      <td>...</td>\n",
       "      <td>...</td>\n",
       "      <td>...</td>\n",
       "      <td>...</td>\n",
       "    </tr>\n",
       "    <tr>\n",
       "      <th>2015-12-24</th>\n",
       "      <td>3.009830e-06</td>\n",
       "      <td>-0.000028</td>\n",
       "      <td>-0.000609</td>\n",
       "      <td>-0.000007</td>\n",
       "      <td>0.000004</td>\n",
       "      <td>-0.000193</td>\n",
       "      <td>-0.000468</td>\n",
       "      <td>-0.000883</td>\n",
       "      <td>-0.002180</td>\n",
       "      <td>79.902522</td>\n",
       "    </tr>\n",
       "    <tr>\n",
       "      <th>2015-12-28</th>\n",
       "      <td>-4.447486e-06</td>\n",
       "      <td>-0.000212</td>\n",
       "      <td>-0.002690</td>\n",
       "      <td>-0.000035</td>\n",
       "      <td>-0.000104</td>\n",
       "      <td>-0.001475</td>\n",
       "      <td>-0.007572</td>\n",
       "      <td>-0.002519</td>\n",
       "      <td>-0.014612</td>\n",
       "      <td>78.734966</td>\n",
       "    </tr>\n",
       "    <tr>\n",
       "      <th>2015-12-29</th>\n",
       "      <td>1.527390e-05</td>\n",
       "      <td>0.000753</td>\n",
       "      <td>0.002116</td>\n",
       "      <td>0.000031</td>\n",
       "      <td>0.000047</td>\n",
       "      <td>0.000162</td>\n",
       "      <td>0.003047</td>\n",
       "      <td>0.000724</td>\n",
       "      <td>0.006894</td>\n",
       "      <td>79.277792</td>\n",
       "    </tr>\n",
       "    <tr>\n",
       "      <th>2015-12-30</th>\n",
       "      <td>-4.683119e-06</td>\n",
       "      <td>-0.000544</td>\n",
       "      <td>-0.001726</td>\n",
       "      <td>-0.000026</td>\n",
       "      <td>-0.000017</td>\n",
       "      <td>-0.001200</td>\n",
       "      <td>-0.004780</td>\n",
       "      <td>-0.000937</td>\n",
       "      <td>-0.009234</td>\n",
       "      <td>78.545715</td>\n",
       "    </tr>\n",
       "    <tr>\n",
       "      <th>2015-12-31</th>\n",
       "      <td>-8.893598e-06</td>\n",
       "      <td>-0.000913</td>\n",
       "      <td>-0.001047</td>\n",
       "      <td>-0.000002</td>\n",
       "      <td>0.000015</td>\n",
       "      <td>-0.000243</td>\n",
       "      <td>-0.002068</td>\n",
       "      <td>-0.000384</td>\n",
       "      <td>-0.004650</td>\n",
       "      <td>78.180507</td>\n",
       "    </tr>\n",
       "  </tbody>\n",
       "</table>\n",
       "<p>3021 rows × 10 columns</p>\n",
       "</div>"
      ],
      "text/plain": [
       "                   value    growth   earning    margin      size       dma  \\\n",
       "DATE                                                                         \n",
       "2004-01-02  2.334630e-06  0.000071  0.001016  0.000007  0.000145       NaN   \n",
       "2004-01-05  1.290200e-05  0.001953  0.001674  0.000041  0.000270       NaN   \n",
       "2004-01-06 -3.127184e-07 -0.000168  0.002844  0.000018  0.000202       NaN   \n",
       "2004-01-07  4.992927e-06  0.000433  0.001339  0.000016  0.000642       NaN   \n",
       "2004-01-08  2.773312e-06  0.000887  0.002516  0.000038  0.000034       NaN   \n",
       "...                  ...       ...       ...       ...       ...       ...   \n",
       "2015-12-24  3.009830e-06 -0.000028 -0.000609 -0.000007  0.000004 -0.000193   \n",
       "2015-12-28 -4.447486e-06 -0.000212 -0.002690 -0.000035 -0.000104 -0.001475   \n",
       "2015-12-29  1.527390e-05  0.000753  0.002116  0.000031  0.000047  0.000162   \n",
       "2015-12-30 -4.683119e-06 -0.000544 -0.001726 -0.000026 -0.000017 -0.001200   \n",
       "2015-12-31 -8.893598e-06 -0.000913 -0.001047 -0.000002  0.000015 -0.000243   \n",
       "\n",
       "                dema      macd       ret  minRiskVal  \n",
       "DATE                                                  \n",
       "2004-01-02       NaN       NaN  0.001242    1.001242  \n",
       "2004-01-05       NaN       NaN  0.003951    1.005199  \n",
       "2004-01-06       NaN       NaN  0.002896    1.008110  \n",
       "2004-01-07  0.004877  0.003481  0.010793    1.018990  \n",
       "2004-01-08 -0.001801 -0.001457  0.000220    1.019214  \n",
       "...              ...       ...       ...         ...  \n",
       "2015-12-24 -0.000468 -0.000883 -0.002180   79.902522  \n",
       "2015-12-28 -0.007572 -0.002519 -0.014612   78.734966  \n",
       "2015-12-29  0.003047  0.000724  0.006894   79.277792  \n",
       "2015-12-30 -0.004780 -0.000937 -0.009234   78.545715  \n",
       "2015-12-31 -0.002068 -0.000384 -0.004650   78.180507  \n",
       "\n",
       "[3021 rows x 10 columns]"
      ]
     },
     "execution_count": 68,
     "metadata": {},
     "output_type": "execute_result"
    }
   ],
   "source": [
    "# Creating risk-minimizing portfolio\n",
    "minRiskPort = returns[['value','growth','earning','margin','size',\n",
    "                      'dma','dema','macd']] * minRiskWt\n",
    "\n",
    "# Calculate daily returns\n",
    "minRiskPort['ret'] = minRiskPort.sum(axis=1)\n",
    "\n",
    "# Calculate portfolio value if starts with $1\n",
    "minRiskPort['minRiskVal'] = (1 + minRiskPort['ret']).cumprod()\n",
    "minRiskPort"
   ]
  },
  {
   "cell_type": "code",
   "execution_count": 69,
   "id": "faa553be",
   "metadata": {},
   "outputs": [
    {
     "data": {
      "text/html": [
       "<div>\n",
       "<style scoped>\n",
       "    .dataframe tbody tr th:only-of-type {\n",
       "        vertical-align: middle;\n",
       "    }\n",
       "\n",
       "    .dataframe tbody tr th {\n",
       "        vertical-align: top;\n",
       "    }\n",
       "\n",
       "    .dataframe thead th {\n",
       "        text-align: right;\n",
       "    }\n",
       "</style>\n",
       "<table border=\"1\" class=\"dataframe\">\n",
       "  <thead>\n",
       "    <tr style=\"text-align: right;\">\n",
       "      <th></th>\n",
       "      <th>value</th>\n",
       "      <th>growth</th>\n",
       "      <th>earning</th>\n",
       "      <th>margin</th>\n",
       "      <th>size</th>\n",
       "      <th>dma</th>\n",
       "      <th>dema</th>\n",
       "      <th>macd</th>\n",
       "      <th>ret</th>\n",
       "      <th>maxSharpeVal</th>\n",
       "    </tr>\n",
       "    <tr>\n",
       "      <th>DATE</th>\n",
       "      <th></th>\n",
       "      <th></th>\n",
       "      <th></th>\n",
       "      <th></th>\n",
       "      <th></th>\n",
       "      <th></th>\n",
       "      <th></th>\n",
       "      <th></th>\n",
       "      <th></th>\n",
       "      <th></th>\n",
       "    </tr>\n",
       "  </thead>\n",
       "  <tbody>\n",
       "    <tr>\n",
       "      <th>2004-01-02</th>\n",
       "      <td>0.000016</td>\n",
       "      <td>0.000021</td>\n",
       "      <td>0.000706</td>\n",
       "      <td>0.000230</td>\n",
       "      <td>0.001284</td>\n",
       "      <td>NaN</td>\n",
       "      <td>NaN</td>\n",
       "      <td>NaN</td>\n",
       "      <td>0.002258</td>\n",
       "      <td>1.002258</td>\n",
       "    </tr>\n",
       "    <tr>\n",
       "      <th>2004-01-05</th>\n",
       "      <td>0.000089</td>\n",
       "      <td>0.000581</td>\n",
       "      <td>0.001164</td>\n",
       "      <td>0.001284</td>\n",
       "      <td>0.002388</td>\n",
       "      <td>NaN</td>\n",
       "      <td>NaN</td>\n",
       "      <td>NaN</td>\n",
       "      <td>0.005506</td>\n",
       "      <td>1.007777</td>\n",
       "    </tr>\n",
       "    <tr>\n",
       "      <th>2004-01-06</th>\n",
       "      <td>-0.000002</td>\n",
       "      <td>-0.000050</td>\n",
       "      <td>0.001977</td>\n",
       "      <td>0.000565</td>\n",
       "      <td>0.001787</td>\n",
       "      <td>NaN</td>\n",
       "      <td>NaN</td>\n",
       "      <td>NaN</td>\n",
       "      <td>0.004277</td>\n",
       "      <td>1.012086</td>\n",
       "    </tr>\n",
       "    <tr>\n",
       "      <th>2004-01-07</th>\n",
       "      <td>0.000034</td>\n",
       "      <td>0.000129</td>\n",
       "      <td>0.000931</td>\n",
       "      <td>0.000492</td>\n",
       "      <td>0.005683</td>\n",
       "      <td>NaN</td>\n",
       "      <td>0.003810</td>\n",
       "      <td>0.005020</td>\n",
       "      <td>0.016100</td>\n",
       "      <td>1.028381</td>\n",
       "    </tr>\n",
       "    <tr>\n",
       "      <th>2004-01-08</th>\n",
       "      <td>0.000019</td>\n",
       "      <td>0.000264</td>\n",
       "      <td>0.001749</td>\n",
       "      <td>0.001166</td>\n",
       "      <td>0.000304</td>\n",
       "      <td>NaN</td>\n",
       "      <td>-0.001407</td>\n",
       "      <td>-0.002101</td>\n",
       "      <td>-0.000007</td>\n",
       "      <td>1.028374</td>\n",
       "    </tr>\n",
       "    <tr>\n",
       "      <th>...</th>\n",
       "      <td>...</td>\n",
       "      <td>...</td>\n",
       "      <td>...</td>\n",
       "      <td>...</td>\n",
       "      <td>...</td>\n",
       "      <td>...</td>\n",
       "      <td>...</td>\n",
       "      <td>...</td>\n",
       "      <td>...</td>\n",
       "      <td>...</td>\n",
       "    </tr>\n",
       "    <tr>\n",
       "      <th>2015-12-24</th>\n",
       "      <td>0.000021</td>\n",
       "      <td>-0.000008</td>\n",
       "      <td>-0.000423</td>\n",
       "      <td>-0.000216</td>\n",
       "      <td>0.000037</td>\n",
       "      <td>-0.000020</td>\n",
       "      <td>-0.000365</td>\n",
       "      <td>-0.001273</td>\n",
       "      <td>-0.002248</td>\n",
       "      <td>1918.860342</td>\n",
       "    </tr>\n",
       "    <tr>\n",
       "      <th>2015-12-28</th>\n",
       "      <td>-0.000031</td>\n",
       "      <td>-0.000063</td>\n",
       "      <td>-0.001870</td>\n",
       "      <td>-0.001085</td>\n",
       "      <td>-0.000923</td>\n",
       "      <td>-0.000151</td>\n",
       "      <td>-0.005916</td>\n",
       "      <td>-0.003633</td>\n",
       "      <td>-0.013673</td>\n",
       "      <td>1892.624497</td>\n",
       "    </tr>\n",
       "    <tr>\n",
       "      <th>2015-12-29</th>\n",
       "      <td>0.000105</td>\n",
       "      <td>0.000224</td>\n",
       "      <td>0.001471</td>\n",
       "      <td>0.000949</td>\n",
       "      <td>0.000419</td>\n",
       "      <td>0.000017</td>\n",
       "      <td>0.002381</td>\n",
       "      <td>0.001044</td>\n",
       "      <td>0.006608</td>\n",
       "      <td>1905.130635</td>\n",
       "    </tr>\n",
       "    <tr>\n",
       "      <th>2015-12-30</th>\n",
       "      <td>-0.000032</td>\n",
       "      <td>-0.000162</td>\n",
       "      <td>-0.001200</td>\n",
       "      <td>-0.000792</td>\n",
       "      <td>-0.000149</td>\n",
       "      <td>-0.000123</td>\n",
       "      <td>-0.003734</td>\n",
       "      <td>-0.001352</td>\n",
       "      <td>-0.007545</td>\n",
       "      <td>1890.757047</td>\n",
       "    </tr>\n",
       "    <tr>\n",
       "      <th>2015-12-31</th>\n",
       "      <td>-0.000061</td>\n",
       "      <td>-0.000272</td>\n",
       "      <td>-0.000728</td>\n",
       "      <td>-0.000070</td>\n",
       "      <td>0.000135</td>\n",
       "      <td>-0.000025</td>\n",
       "      <td>-0.001616</td>\n",
       "      <td>-0.000553</td>\n",
       "      <td>-0.003189</td>\n",
       "      <td>1884.728032</td>\n",
       "    </tr>\n",
       "  </tbody>\n",
       "</table>\n",
       "<p>3021 rows × 10 columns</p>\n",
       "</div>"
      ],
      "text/plain": [
       "               value    growth   earning    margin      size       dma  \\\n",
       "DATE                                                                     \n",
       "2004-01-02  0.000016  0.000021  0.000706  0.000230  0.001284       NaN   \n",
       "2004-01-05  0.000089  0.000581  0.001164  0.001284  0.002388       NaN   \n",
       "2004-01-06 -0.000002 -0.000050  0.001977  0.000565  0.001787       NaN   \n",
       "2004-01-07  0.000034  0.000129  0.000931  0.000492  0.005683       NaN   \n",
       "2004-01-08  0.000019  0.000264  0.001749  0.001166  0.000304       NaN   \n",
       "...              ...       ...       ...       ...       ...       ...   \n",
       "2015-12-24  0.000021 -0.000008 -0.000423 -0.000216  0.000037 -0.000020   \n",
       "2015-12-28 -0.000031 -0.000063 -0.001870 -0.001085 -0.000923 -0.000151   \n",
       "2015-12-29  0.000105  0.000224  0.001471  0.000949  0.000419  0.000017   \n",
       "2015-12-30 -0.000032 -0.000162 -0.001200 -0.000792 -0.000149 -0.000123   \n",
       "2015-12-31 -0.000061 -0.000272 -0.000728 -0.000070  0.000135 -0.000025   \n",
       "\n",
       "                dema      macd       ret  maxSharpeVal  \n",
       "DATE                                                    \n",
       "2004-01-02       NaN       NaN  0.002258      1.002258  \n",
       "2004-01-05       NaN       NaN  0.005506      1.007777  \n",
       "2004-01-06       NaN       NaN  0.004277      1.012086  \n",
       "2004-01-07  0.003810  0.005020  0.016100      1.028381  \n",
       "2004-01-08 -0.001407 -0.002101 -0.000007      1.028374  \n",
       "...              ...       ...       ...           ...  \n",
       "2015-12-24 -0.000365 -0.001273 -0.002248   1918.860342  \n",
       "2015-12-28 -0.005916 -0.003633 -0.013673   1892.624497  \n",
       "2015-12-29  0.002381  0.001044  0.006608   1905.130635  \n",
       "2015-12-30 -0.003734 -0.001352 -0.007545   1890.757047  \n",
       "2015-12-31 -0.001616 -0.000553 -0.003189   1884.728032  \n",
       "\n",
       "[3021 rows x 10 columns]"
      ]
     },
     "execution_count": 69,
     "metadata": {},
     "output_type": "execute_result"
    }
   ],
   "source": [
    "# Creating Sharpe-maximizing portfolio\n",
    "maxSharpePort = returns[['value','growth','earning','margin','size',\n",
    "                      'dma','dema','macd']] * maxSharpeWt\n",
    "\n",
    "# Calculate daily returns\n",
    "maxSharpePort['ret'] = maxSharpePort.sum(axis=1)\n",
    "\n",
    "# Calculate portfolio value if starts with $1\n",
    "maxSharpePort['maxSharpeVal'] = (1 + maxSharpePort['ret']).cumprod()\n",
    "maxSharpePort"
   ]
  },
  {
   "cell_type": "code",
   "execution_count": 70,
   "id": "816f9b0d",
   "metadata": {},
   "outputs": [
    {
     "data": {
      "image/png": "[encoded data removed]",
      "text/plain": [
       "<Figure size 640x480 with 2 Axes>"
      ]
     },
     "metadata": {},
     "output_type": "display_data"
    }
   ],
   "source": [
    "# In-sample portfolio value\n",
    "# Create a figure and a single subplot\n",
    "fig, ax1 = plt.subplots()\n",
    "\n",
    "# Plot the first data series on the first y-axis\n",
    "color = 'tab:red'\n",
    "ax1.set_xlabel('Date')\n",
    "ax1.set_ylabel('Risk-Minimizing Portfolio', color=color)\n",
    "ax1.plot(minRiskPort.index, minRiskPort['minRiskVal'],\n",
    "         color=color, label='Risk-Minimizing Portfolio')\n",
    "ax1.tick_params(axis='y', labelcolor=color)\n",
    "\n",
    "# Create a second y-axis for the second data series\n",
    "ax2 = ax1.twinx()  # instantiate a second axes that shares the same x-axis\n",
    "color = 'tab:blue'\n",
    "ax2.set_ylabel('Sharpe-Maximizing Portfolio', color=color)  # we already handled the x-label with ax1\n",
    "ax2.plot(maxSharpePort.index, maxSharpePort['maxSharpeVal'],\n",
    "         color=color, label='Sharpe-Maximizing Portfolio')\n",
    "ax2.tick_params(axis='y', labelcolor=color)\n",
    "\n",
    "# Show the plot\n",
    "fig.legend(loc='upper left', bbox_to_anchor=(0.14,0.86))\n",
    "plt.show()\n"
   ]
  },
  {
   "cell_type": "code",
   "execution_count": null,
   "id": "81ecd808",
   "metadata": {},
   "outputs": [],
   "source": []
  },
  {
   "cell_type": "code",
   "execution_count": null,
   "id": "8d19c01a",
   "metadata": {},
   "outputs": [],
   "source": []
  },
  {
   "cell_type": "markdown",
   "id": "4465210e",
   "metadata": {},
   "source": [
    "# Out of Sample"
   ]
  },
  {
   "cell_type": "markdown",
   "id": "60935896",
   "metadata": {},
   "source": [
    "## Value Investing vs Growth Investing"
   ]
  },
  {
   "cell_type": "code",
   "execution_count": 71,
   "id": "eac37b83",
   "metadata": {},
   "outputs": [],
   "source": [
    "strat = df1.copy()\n",
    "\n",
    "# Calculate P/E using market value and net income. Since MV is in thousands,\n",
    "# and net income is in millions, we divide by 1000.\n",
    "strat['PE'] = strat['MV'] / strat['NI'] / 1000\n",
    "\n",
    "# Rank the PE so that firms with smaller PE on each day has a smaller (closer to 0) rank\n",
    "# Shift the PE by one day to avoid look-ahead bias\n",
    "strat['PEValueRank'] = strat['PE'].shift().groupby('DATE').rank()\n",
    "\n",
    "# Rank the PE so that firms with larger PE on each day has a smaller (closer to 0) rank\n",
    "strat['PEGrowthRank'] = strat['PE'].shift().groupby('DATE').rank(ascending=False)\n",
    "\n",
    "# Select the top 50 value stocks\n",
    "PEValue50 = strat.loc[strat['PEValueRank'] < 50]\n",
    "\n",
    "# Select the top 50 growth stocks\n",
    "PEGrowth50 = strat.loc[strat['PEGrowthRank'] < 50]\n",
    "\n",
    "# Construct an equal-weighted value portfolio everyday with top 50 value stocks\n",
    "PEValuePort = PEValue50['RETX'].groupby('DATE').sum()/50\n",
    "PEValuePort = PEValuePort.to_frame().merge(ff['RF'], how='left', on='DATE')\n",
    "PEValuePort['ExcessRet'] = PEValuePort['RETX'] - PEValuePort['RF']\n",
    "\n",
    "# Construct an equal-weighted growth portfolio everyday with top 50 growth stocks\n",
    "PEGrowthPort = PEGrowth50['RETX'].groupby('DATE').sum()/50\n",
    "PEGrowthPort = PEGrowthPort.to_frame().merge(ff['RF'], how='left', on='DATE')\n",
    "PEGrowthPort['ExcessRet'] = PEGrowthPort['RETX'] - PEGrowthPort['RF']"
   ]
  },
  {
   "cell_type": "code",
   "execution_count": 72,
   "id": "2c79748f",
   "metadata": {},
   "outputs": [],
   "source": [
    "PEValueRet = PEValuePort['RETX'].mean()\n",
    "PEValueVol = PEValuePort['RETX'].std()\n",
    "PEGrowthRet = PEGrowthPort['RETX'].mean()\n",
    "PEGrowthVol = PEGrowthPort['RETX'].std()"
   ]
  },
  {
   "cell_type": "code",
   "execution_count": 73,
   "id": "65f34f00",
   "metadata": {
    "scrolled": true
   },
   "outputs": [
    {
     "name": "stdout",
     "output_type": "stream",
     "text": [
      "Annulized return for PE Value portfolio: 0.2095\n",
      "Annulized return for PE Growth portfolio: 0.2138\n",
      "Annulized volatility for PE Value portfolio: 0.3513\n",
      "Annulized volatility for PE Growth portfolio: 0.2723\n"
     ]
    }
   ],
   "source": [
    "print('Annulized return for PE Value portfolio: %2.4f' %(PEValueRet * 252))\n",
    "print('Annulized return for PE Growth portfolio: %2.4f' %(PEGrowthRet * 252))\n",
    "print('Annulized volatility for PE Value portfolio: %2.4f' %(PEValueVol * np.sqrt(252)))\n",
    "print('Annulized volatility for PE Growth portfolio: %2.4f' %(PEGrowthVol * np.sqrt(252)))"
   ]
  },
  {
   "cell_type": "code",
   "execution_count": 74,
   "id": "0528ad4a",
   "metadata": {
    "scrolled": true
   },
   "outputs": [
    {
     "name": "stdout",
     "output_type": "stream",
     "text": [
      "Annulized Sharpe Ratio for PE Value portfolio: 0.5588\n",
      "Annulized Sharpe Ratio for PE Growth portfolio: 0.7365\n"
     ]
    }
   ],
   "source": [
    "PEValueSharpe = PEValuePort['ExcessRet'].mean() / PEValueVol * np.sqrt(252)\n",
    "PEGrowthSharpe = PEGrowthPort['ExcessRet'].mean() / PEGrowthVol * np.sqrt(252)\n",
    "print('Annulized Sharpe Ratio for PE Value portfolio: %2.4f' %(PEValueSharpe))\n",
    "print('Annulized Sharpe Ratio for PE Growth portfolio: %2.4f' %(PEGrowthSharpe))"
   ]
  },
  {
   "cell_type": "markdown",
   "id": "ea1fbc77",
   "metadata": {},
   "source": [
    "## Investing in high earnings relative to total assets"
   ]
  },
  {
   "cell_type": "code",
   "execution_count": 75,
   "id": "4df444c9",
   "metadata": {},
   "outputs": [],
   "source": [
    "strat = df1.copy()\n",
    "strat['earnings'] = strat['IB'] / strat['Asset'] / 1000\n",
    "strat['earningsRank'] = strat['earnings'].shift().groupby('DATE').rank(ascending=False)\n",
    "earnings50 = strat.loc[strat['earningsRank'] < 50]\n",
    "earningsPort = earnings50['RETX'].groupby('DATE').sum()/50"
   ]
  },
  {
   "cell_type": "code",
   "execution_count": 76,
   "id": "b1bee9ff",
   "metadata": {},
   "outputs": [],
   "source": [
    "earningsStat = earningsPort.describe()"
   ]
  },
  {
   "cell_type": "code",
   "execution_count": 77,
   "id": "3a235ad0",
   "metadata": {},
   "outputs": [],
   "source": [
    "earningsRet = earningsStat['mean']\n",
    "earningsVol = earningsStat['std']"
   ]
  },
  {
   "cell_type": "code",
   "execution_count": 78,
   "id": "a71cf868",
   "metadata": {
    "scrolled": false
   },
   "outputs": [
    {
     "name": "stdout",
     "output_type": "stream",
     "text": [
      "Annulized return for high earning portfolio: 0.5662\n",
      "Annulized volatility for high earning portfolio: 0.3445\n"
     ]
    }
   ],
   "source": [
    "print('Annulized return for high earning portfolio: %2.4f' %(earningsRet * 252))\n",
    "print('Annulized volatility for high earning portfolio: %2.4f' %(earningsVol * np.sqrt(252)))"
   ]
  },
  {
   "cell_type": "code",
   "execution_count": 79,
   "id": "acc221ca",
   "metadata": {},
   "outputs": [
    {
     "name": "stdout",
     "output_type": "stream",
     "text": [
      "Annulized Sharpe Ratio for high earning portfolio: 1.6051\n"
     ]
    }
   ],
   "source": [
    "earningsPort = earningsPort.to_frame().merge(ff['RF'], how='left', on='DATE')\n",
    "earningsPort['ExcessRet'] = earningsPort['RETX'] - earningsPort['RF']\n",
    "earningsSharpe = earningsPort['ExcessRet'].mean() / earningsVol * np.sqrt(252)\n",
    "print('Annulized Sharpe Ratio for high earning portfolio: %2.4f' %(earningsSharpe))"
   ]
  },
  {
   "cell_type": "markdown",
   "id": "6f4908ff",
   "metadata": {},
   "source": [
    "## Investing in high profit margins"
   ]
  },
  {
   "cell_type": "code",
   "execution_count": 80,
   "id": "edd355d9",
   "metadata": {},
   "outputs": [],
   "source": [
    "strat = df1.copy()\n",
    "strat['margin'] = strat['NI'] / strat['SALE'] / 1000\n",
    "strat['marginRank'] = strat['margin'].shift().groupby('DATE').rank(ascending=False)\n",
    "margin50 = strat.loc[strat['marginRank'] < 50]\n",
    "marginPort = margin50['RETX'].groupby('DATE').sum()/50"
   ]
  },
  {
   "cell_type": "code",
   "execution_count": 81,
   "id": "a9515be5",
   "metadata": {},
   "outputs": [],
   "source": [
    "marginStat = marginPort.describe()"
   ]
  },
  {
   "cell_type": "code",
   "execution_count": 82,
   "id": "0bc67a6c",
   "metadata": {},
   "outputs": [],
   "source": [
    "marginRet = marginStat['mean']\n",
    "marginVol = marginStat['std']"
   ]
  },
  {
   "cell_type": "code",
   "execution_count": 83,
   "id": "070a2d64",
   "metadata": {
    "scrolled": true
   },
   "outputs": [
    {
     "name": "stdout",
     "output_type": "stream",
     "text": [
      "Annulized return for high margin portfolio: 0.4876\n",
      "Annulized volatility for high margin portfolio: 0.3430\n"
     ]
    }
   ],
   "source": [
    "print('Annulized return for high margin portfolio: %2.4f' %(marginRet * 252))\n",
    "print('Annulized volatility for high margin portfolio: %2.4f' %(marginVol * np.sqrt(252)))"
   ]
  },
  {
   "cell_type": "code",
   "execution_count": 84,
   "id": "3b9042cf",
   "metadata": {},
   "outputs": [
    {
     "name": "stdout",
     "output_type": "stream",
     "text": [
      "Annulized Sharpe Ratio for profitable portfolio: 1.3829\n"
     ]
    }
   ],
   "source": [
    "marginPort = marginPort.to_frame().merge(ff['RF'], how='left', on='DATE')\n",
    "marginPort['ExcessRet'] = marginPort['RETX'] - marginPort['RF']\n",
    "marginSharpe = marginPort['ExcessRet'].mean() / marginVol * np.sqrt(252)\n",
    "print('Annulized Sharpe Ratio for profitable portfolio: %2.4f' %(marginSharpe))"
   ]
  },
  {
   "cell_type": "markdown",
   "id": "64e0b18f",
   "metadata": {},
   "source": [
    "## Investing in small companies (SMB)"
   ]
  },
  {
   "cell_type": "code",
   "execution_count": 85,
   "id": "8889c6e1",
   "metadata": {},
   "outputs": [],
   "source": [
    "strat = df1.copy()\n",
    "strat['sizeRank'] = strat['Asset'].shift().groupby('DATE').rank()\n",
    "size50 = strat.loc[strat['sizeRank'] < 50]\n",
    "sizePort = size50['RETX'].groupby('DATE').sum()/50"
   ]
  },
  {
   "cell_type": "code",
   "execution_count": 86,
   "id": "ad54ea0c",
   "metadata": {},
   "outputs": [],
   "source": [
    "sizeStat = sizePort.describe()"
   ]
  },
  {
   "cell_type": "code",
   "execution_count": 87,
   "id": "89b4412d",
   "metadata": {},
   "outputs": [],
   "source": [
    "sizeRet = sizeStat['mean']\n",
    "sizeVol = sizeStat['std']"
   ]
  },
  {
   "cell_type": "code",
   "execution_count": 88,
   "id": "2974ec62",
   "metadata": {
    "scrolled": true
   },
   "outputs": [
    {
     "name": "stdout",
     "output_type": "stream",
     "text": [
      "Annulized return for small company portfolio: 2.8142\n",
      "Annulized volatility for small company portfolio: 1.0879\n"
     ]
    }
   ],
   "source": [
    "print('Annulized return for small company portfolio: %2.4f' %(sizeRet * 252))\n",
    "print('Annulized volatility for small company portfolio: %2.4f' %(sizeVol * np.sqrt(252)))"
   ]
  },
  {
   "cell_type": "code",
   "execution_count": 89,
   "id": "1fc122e1",
   "metadata": {},
   "outputs": [
    {
     "name": "stdout",
     "output_type": "stream",
     "text": [
      "Annulized Sharpe Ratio for small company portfolio: 2.5747\n"
     ]
    }
   ],
   "source": [
    "sizePort = sizePort.to_frame().merge(ff['RF'], how='left', on='DATE')\n",
    "sizePort['ExcessRet'] = sizePort['RETX'] - sizePort['RF']\n",
    "sizeSharpe = sizePort['ExcessRet'].mean() / sizeVol * np.sqrt(252)\n",
    "print('Annulized Sharpe Ratio for small company portfolio: %2.4f' %(sizeSharpe))"
   ]
  },
  {
   "cell_type": "markdown",
   "id": "ad21ae49",
   "metadata": {},
   "source": [
    "# Double Moving Average (DMA)"
   ]
  },
  {
   "cell_type": "code",
   "execution_count": 90,
   "id": "ac4de46d",
   "metadata": {},
   "outputs": [],
   "source": [
    "# Compute the 10-, 50-, and 100-day moving averages\n",
    "strat = df1.copy()\n",
    "\n",
    "strat['7ma'] = strat.groupby('PERMNO')['PRC'].rolling(7).mean().droplevel(0)\n",
    "strat['21ma'] = strat.groupby('PERMNO')['PRC'].rolling(21).mean().droplevel(0)"
   ]
  },
  {
   "cell_type": "code",
   "execution_count": 91,
   "id": "c6fc48fc",
   "metadata": {},
   "outputs": [
    {
     "name": "stdout",
     "output_type": "stream",
     "text": [
      "Annulized return for DMA portfolio: 0.2036\n",
      "Annulized volatility for DMA portfolio: 0.2133\n"
     ]
    }
   ],
   "source": [
    "# Test the 7-, 21-day strategy\n",
    "# Set signal to 1 for days the short MA exceeds the long MA, and -1 if the former is less than the latter.\n",
    "strat['signal'] = 0\n",
    "strat.loc[strat['7ma'] > strat['21ma'], 'signal'] = 1\n",
    "strat.loc[strat['7ma'] < strat['21ma'], 'signal'] = -1\n",
    "\n",
    "# Calculate daily strategy returns\n",
    "strat['signal'] = strat.groupby('PERMNO')['signal'].shift(1)\n",
    "strat['dmaRet'] = strat['RET'] * strat['signal']\n",
    "\n",
    "# Trade on the most liquid stocks\n",
    "strat['lagSignal'] = strat['signal'].shift()\n",
    "stratfilter = strat.loc[((strat['signal'] > 0) & (strat['lagSignal'] < 0))|\n",
    "                     ((strat['signal'] < 0) & (strat['lagSignal'] > 0))]\n",
    "stratfilter['volRank'] = stratfilter['VOL'].groupby('DATE').rank(ascending=False)\n",
    "dmaPort = stratfilter.loc[stratfilter['volRank'] < 50]['dmaRet'].groupby('DATE').sum()/50\n",
    "\n",
    "dmaRet = dmaPort.mean()\n",
    "dmaVol = dmaPort.std()\n",
    "print('Annulized return for DMA portfolio: %2.4f' %(dmaRet * 252))\n",
    "print('Annulized volatility for DMA portfolio: %2.4f' %(dmaVol * np.sqrt(252)))"
   ]
  },
  {
   "cell_type": "code",
   "execution_count": 92,
   "id": "078e02f3",
   "metadata": {},
   "outputs": [
    {
     "name": "stdout",
     "output_type": "stream",
     "text": [
      "Annulized Sharpe Ratio for DMA portfolio: 0.8916\n"
     ]
    }
   ],
   "source": [
    "dmaPort = dmaPort.to_frame().merge(ff['RF'], how='left', on='DATE')\n",
    "dmaPort['ExcessRet'] = dmaPort['dmaRet'] - dmaPort['RF']\n",
    "dmaSharpe = dmaPort['ExcessRet'].mean() / dmaVol * np.sqrt(252)\n",
    "print('Annulized Sharpe Ratio for DMA portfolio: %2.4f' %(dmaSharpe))"
   ]
  },
  {
   "cell_type": "markdown",
   "id": "8b8cd920",
   "metadata": {},
   "source": [
    "## Double Exponential Moving Average"
   ]
  },
  {
   "cell_type": "code",
   "execution_count": 93,
   "id": "b22f5c5b",
   "metadata": {},
   "outputs": [],
   "source": [
    "# Calculate Exponential Moving Averages\n",
    "strat = df1.copy()\n",
    "strat['ema_10'] = strat.groupby('PERMNO')['PRC'].transform(lambda x: x.ewm(span=10, adjust=False).mean())\n",
    "strat['ema_50'] = strat.groupby('PERMNO')['PRC'].transform(lambda x: x.ewm(span=50, adjust=False).mean())\n",
    "\n",
    "# Calculate the Double EMAs for the same periods\n",
    "strat['dema_10'] = strat.groupby('PERMNO')['ema_10'].transform(lambda x: x.ewm(span=10, adjust=False).mean())\n",
    "strat['dema_50'] = strat.groupby('PERMNO')['ema_50'].transform(lambda x: x.ewm(span=50, adjust=False).mean())\n",
    "\n",
    "# Calculate DEMA\n",
    "strat['dema_10_final'] = 2 * strat['ema_10'] - strat['dema_10']\n",
    "strat['dema_50_final'] = 2 * strat['ema_50'] - strat['dema_50']"
   ]
  },
  {
   "cell_type": "code",
   "execution_count": 94,
   "id": "a9b50479",
   "metadata": {},
   "outputs": [
    {
     "name": "stdout",
     "output_type": "stream",
     "text": [
      "Annulized return for DEMA portfolio: 0.3309\n",
      "Annulized volatility for DEMA portfolio: 0.2021\n"
     ]
    }
   ],
   "source": [
    "# Test the trategy\n",
    "# Set signal to 1 for days the short MA exceeds the long MA, and -1 if the former is less than the latter.\n",
    "strat['signal'] = 0\n",
    "strat.loc[strat['dema_10_final'] > strat['dema_50_final'], 'signal'] = 1\n",
    "strat.loc[strat['dema_10_final'] < strat['dema_50_final'], 'signal'] = -1\n",
    "\n",
    "# Calculate daily strategy returns\n",
    "strat['signal'] = strat.groupby('PERMNO')['signal'].shift(1)\n",
    "strat['demaRet'] = strat['RET'] * strat['signal']\n",
    "\n",
    "# Trade on the most liquid stocks\n",
    "strat['lagSignal'] = strat['signal'].shift()\n",
    "stratfilter = strat.loc[((strat['signal'] > 0) & (strat['lagSignal'] < 0))|\n",
    "                     ((strat['signal'] < 0) & (strat['lagSignal'] > 0))]\n",
    "stratfilter['volRank'] = stratfilter['VOL'].groupby('DATE').rank(ascending=False)\n",
    "demaPort = stratfilter.loc[stratfilter['volRank'] < 50]['demaRet'].groupby('DATE').sum()/50\n",
    "\n",
    "demaRet = demaPort.mean()\n",
    "demaVol = demaPort.std()\n",
    "print('Annulized return for DEMA portfolio: %2.4f' %(demaRet * 252))\n",
    "print('Annulized volatility for DEMA portfolio: %2.4f' %(demaVol * np.sqrt(252)))"
   ]
  },
  {
   "cell_type": "code",
   "execution_count": 95,
   "id": "5874e168",
   "metadata": {},
   "outputs": [
    {
     "name": "stdout",
     "output_type": "stream",
     "text": [
      "Annulized Sharpe Ratio for DEMA portfolio: 1.5717\n"
     ]
    }
   ],
   "source": [
    "demaPort = demaPort.to_frame().merge(ff['RF'], how='left', on='DATE')\n",
    "demaPort['ExcessRet'] = demaPort['demaRet'] - demaPort['RF']\n",
    "demaSharpe = demaPort['ExcessRet'].mean() / demaVol * np.sqrt(252)\n",
    "print('Annulized Sharpe Ratio for DEMA portfolio: %2.4f' %(demaSharpe))"
   ]
  },
  {
   "cell_type": "markdown",
   "id": "ee63f292",
   "metadata": {},
   "source": [
    "## Guppy Multiple Moving Average (GMMA)"
   ]
  },
  {
   "cell_type": "code",
   "execution_count": 96,
   "id": "17506357",
   "metadata": {},
   "outputs": [],
   "source": [
    "# Compute the 10-, 50-, and 100-day moving averages\n",
    "strat = df1.copy()\n",
    "strat['ema_3'] = strat.groupby('PERMNO')['PRC'].transform(lambda x: x.ewm(span=3, adjust=False).mean())\n",
    "strat['ema_5'] = strat.groupby('PERMNO')['PRC'].transform(lambda x: x.ewm(span=5, adjust=False).mean())\n",
    "strat['ema_8'] = strat.groupby('PERMNO')['PRC'].transform(lambda x: x.ewm(span=8, adjust=False).mean())\n",
    "strat['ema_10'] = strat.groupby('PERMNO')['PRC'].transform(lambda x: x.ewm(span=10, adjust=False).mean())\n",
    "strat['ema_12'] = strat.groupby('PERMNO')['PRC'].transform(lambda x: x.ewm(span=12, adjust=False).mean())\n",
    "strat['ema_15'] = strat.groupby('PERMNO')['PRC'].transform(lambda x: x.ewm(span=15, adjust=False).mean())\n",
    "\n",
    "strat['ema_30'] = strat.groupby('PERMNO')['PRC'].transform(lambda x: x.ewm(span=30, adjust=False).mean())\n",
    "strat['ema_35'] = strat.groupby('PERMNO')['PRC'].transform(lambda x: x.ewm(span=35, adjust=False).mean())\n",
    "strat['ema_40'] = strat.groupby('PERMNO')['PRC'].transform(lambda x: x.ewm(span=40, adjust=False).mean())\n",
    "strat['ema_45'] = strat.groupby('PERMNO')['PRC'].transform(lambda x: x.ewm(span=45, adjust=False).mean())\n",
    "strat['ema_50'] = strat.groupby('PERMNO')['PRC'].transform(lambda x: x.ewm(span=50, adjust=False).mean())\n",
    "strat['ema_60'] = strat.groupby('PERMNO')['PRC'].transform(lambda x: x.ewm(span=60, adjust=False).mean())"
   ]
  },
  {
   "cell_type": "code",
   "execution_count": 97,
   "id": "2dc068e5",
   "metadata": {},
   "outputs": [
    {
     "name": "stdout",
     "output_type": "stream",
     "text": [
      "Annulized return for MACD portfolio: -0.0252\n",
      "Annulized volatility for MACD portfolio: 0.0432\n"
     ]
    }
   ],
   "source": [
    "# Compute the minimum and maximum for each group of EMA for easier signal construction.\n",
    "strat['low_short'] = strat[['ema_3','ema_5','ema_8','ema_10','ema_12','ema_15']].min(axis=1)\n",
    "strat['high_short'] = strat[['ema_3','ema_5','ema_8','ema_10','ema_12','ema_15']].max(axis=1)\n",
    "strat['low_long'] = strat[['ema_30','ema_35','ema_40','ema_45','ema_50','ema_60']].min(axis=1)\n",
    "strat['high_long'] = strat[['ema_30','ema_35','ema_40','ema_45','ema_50','ema_60']].max(axis=1)\n",
    "\n",
    "# Set signal to 1 for days the short MA exceeds the long MA, and -1 if the former is less than the latter.\n",
    "strat['signal'] = 0\n",
    "strat.loc[strat['low_short'] > strat['high_long'], 'signal'] = 1\n",
    "strat.loc[strat['high_short'] < strat['low_long'], 'signal'] = -1\n",
    "\n",
    "# Calculate daily strategy returns\n",
    "strat['signal'] = strat.groupby('PERMNO')['signal'].shift(1)\n",
    "strat['gmmaRet'] = strat['RET'] * strat['signal']\n",
    "\n",
    "# Trade on the most liquid stocks\n",
    "strat['lagSignal'] = strat['signal'].shift()\n",
    "stratfilter = strat.loc[((strat['signal'] > 0) & (strat['lagSignal'] < 0))|\n",
    "                     ((strat['signal'] < 0) & (strat['lagSignal'] > 0))]\n",
    "stratfilter['volRank'] = stratfilter['VOL'].groupby('DATE').rank(ascending=False)\n",
    "gmmaPort = stratfilter.loc[stratfilter['volRank'] < 50]['gmmaRet'].groupby('DATE').sum()/50\n",
    "\n",
    "gmmaRet = gmmaPort.mean()\n",
    "gmmaVol = gmmaPort.std()\n",
    "\n",
    "print('Annulized return for MACD portfolio: %2.4f' %(gmmaRet * 252))\n",
    "print('Annulized volatility for MACD portfolio: %2.4f' %(gmmaVol * np.sqrt(252)))"
   ]
  },
  {
   "cell_type": "code",
   "execution_count": 98,
   "id": "0ca56d35",
   "metadata": {},
   "outputs": [
    {
     "name": "stdout",
     "output_type": "stream",
     "text": [
      "Annulized Sharpe Ratio for GMMA portfolio: -0.8742\n"
     ]
    }
   ],
   "source": [
    "gmmaPort = gmmaPort.to_frame().merge(ff['RF'], how='left', on='DATE')\n",
    "gmmaPort['ExcessRet'] = gmmaPort['gmmaRet'] - gmmaPort['RF']\n",
    "gmmaSharpe = gmmaPort['ExcessRet'].mean() / gmmaVol * np.sqrt(252)\n",
    "print('Annulized Sharpe Ratio for GMMA portfolio: %2.4f' %(gmmaSharpe))"
   ]
  },
  {
   "cell_type": "markdown",
   "id": "23158906",
   "metadata": {},
   "source": [
    "## Moving Average Convergance/Divergence (MACD)"
   ]
  },
  {
   "cell_type": "code",
   "execution_count": 99,
   "id": "4180cec0",
   "metadata": {},
   "outputs": [],
   "source": [
    "# Constructing 12- and 26-day EMA\n",
    "strat = df1.copy()\n",
    "strat['ema_12'] = strat.groupby('PERMNO')['PRC'].transform(lambda x: x.ewm(span=12, adjust=False).mean())\n",
    "strat['ema_26'] = strat.groupby('PERMNO')['PRC'].transform(lambda x: x.ewm(span=26, adjust=False).mean())\n",
    "\n",
    "strat['MACD'] = strat['ema_12'] - strat['ema_26']\n",
    "strat['signal_line'] = strat.groupby('PERMNO')['MACD'].transform(lambda x: x.ewm(span=9, adjust=False).mean())"
   ]
  },
  {
   "cell_type": "code",
   "execution_count": 100,
   "id": "c5f43b34",
   "metadata": {},
   "outputs": [
    {
     "name": "stdout",
     "output_type": "stream",
     "text": [
      "Annulized return for MACD portfolio: 0.4012\n",
      "Annulized volatility for MACD portfolio: 0.2196\n"
     ]
    }
   ],
   "source": [
    "# Set signal to 1 for days the short MA exceeds the long MA, and -1 if the former is less than the latter.\n",
    "strat['signal'] = 0\n",
    "strat.loc[strat['MACD'] > strat['signal_line'], 'signal'] = 1\n",
    "strat.loc[strat['MACD'] < strat['signal_line'], 'signal'] = -1\n",
    "\n",
    "# Calculate daily strategy returns\n",
    "strat['signal'] = strat.groupby('PERMNO')['signal'].shift(1)\n",
    "strat['macdRet'] = strat['RET'] * strat['signal']\n",
    "\n",
    "# Trade on the most liquid stocks\n",
    "strat['lagSignal'] = strat['signal'].shift()\n",
    "stratfilter = strat.loc[((strat['signal'] > 0) & (strat['lagSignal'] < 0))|\n",
    "                     ((strat['signal'] < 0) & (strat['lagSignal'] > 0))]\n",
    "stratfilter['volRank'] = stratfilter['VOL'].groupby('DATE').rank(ascending=False)\n",
    "macdPort = stratfilter.loc[stratfilter['volRank'] < 50]['macdRet'].groupby('DATE').sum()/50\n",
    "\n",
    "macdRet = macdPort.mean()\n",
    "macdVol = macdPort.std()\n",
    "print('Annulized return for MACD portfolio: %2.4f' %(macdRet * 252))\n",
    "print('Annulized volatility for MACD portfolio: %2.4f' %(macdVol * np.sqrt(252)))"
   ]
  },
  {
   "cell_type": "code",
   "execution_count": 101,
   "id": "865ed18d",
   "metadata": {},
   "outputs": [
    {
     "name": "stdout",
     "output_type": "stream",
     "text": [
      "Annulized Sharpe Ratio for MACD portfolio: 1.7664\n"
     ]
    }
   ],
   "source": [
    "macdPort = macdPort.to_frame().merge(ff['RF'], how='left', on='DATE')\n",
    "macdPort['ExcessRet'] = macdPort['macdRet'] - macdPort['RF']\n",
    "macdSharpe = macdPort['ExcessRet'].mean() / macdVol * np.sqrt(252)\n",
    "print('Annulized Sharpe Ratio for MACD portfolio: %2.4f' %(macdSharpe))"
   ]
  },
  {
   "cell_type": "code",
   "execution_count": null,
   "id": "f6433f5b",
   "metadata": {},
   "outputs": [],
   "source": []
  },
  {
   "cell_type": "markdown",
   "id": "a5bb314f",
   "metadata": {},
   "source": [
    "## Portfolio Construction"
   ]
  },
  {
   "cell_type": "code",
   "execution_count": 102,
   "id": "005865f7",
   "metadata": {},
   "outputs": [
    {
     "data": {
      "text/html": [
       "<div>\n",
       "<style scoped>\n",
       "    .dataframe tbody tr th:only-of-type {\n",
       "        vertical-align: middle;\n",
       "    }\n",
       "\n",
       "    .dataframe tbody tr th {\n",
       "        vertical-align: top;\n",
       "    }\n",
       "\n",
       "    .dataframe thead th {\n",
       "        text-align: right;\n",
       "    }\n",
       "</style>\n",
       "<table border=\"1\" class=\"dataframe\">\n",
       "  <thead>\n",
       "    <tr style=\"text-align: right;\">\n",
       "      <th></th>\n",
       "      <th>value</th>\n",
       "      <th>growth</th>\n",
       "      <th>earning</th>\n",
       "      <th>margin</th>\n",
       "      <th>size</th>\n",
       "      <th>dma</th>\n",
       "      <th>dema</th>\n",
       "      <th>macd</th>\n",
       "    </tr>\n",
       "    <tr>\n",
       "      <th>DATE</th>\n",
       "      <th></th>\n",
       "      <th></th>\n",
       "      <th></th>\n",
       "      <th></th>\n",
       "      <th></th>\n",
       "      <th></th>\n",
       "      <th></th>\n",
       "      <th></th>\n",
       "    </tr>\n",
       "  </thead>\n",
       "  <tbody>\n",
       "    <tr>\n",
       "      <th>2016-01-04</th>\n",
       "      <td>-0.026347</td>\n",
       "      <td>-0.020456</td>\n",
       "      <td>-0.019849</td>\n",
       "      <td>-0.014327</td>\n",
       "      <td>-0.017668</td>\n",
       "      <td>NaN</td>\n",
       "      <td>NaN</td>\n",
       "      <td>NaN</td>\n",
       "    </tr>\n",
       "    <tr>\n",
       "      <th>2016-01-05</th>\n",
       "      <td>0.004578</td>\n",
       "      <td>-0.002113</td>\n",
       "      <td>-0.005639</td>\n",
       "      <td>-0.010641</td>\n",
       "      <td>-0.008923</td>\n",
       "      <td>NaN</td>\n",
       "      <td>NaN</td>\n",
       "      <td>NaN</td>\n",
       "    </tr>\n",
       "    <tr>\n",
       "      <th>2016-01-06</th>\n",
       "      <td>-0.012086</td>\n",
       "      <td>-0.009928</td>\n",
       "      <td>-0.017750</td>\n",
       "      <td>-0.026445</td>\n",
       "      <td>-0.012731</td>\n",
       "      <td>NaN</td>\n",
       "      <td>NaN</td>\n",
       "      <td>NaN</td>\n",
       "    </tr>\n",
       "    <tr>\n",
       "      <th>2016-01-07</th>\n",
       "      <td>-0.022689</td>\n",
       "      <td>-0.025097</td>\n",
       "      <td>-0.029646</td>\n",
       "      <td>-0.035277</td>\n",
       "      <td>-0.034334</td>\n",
       "      <td>NaN</td>\n",
       "      <td>0.023822</td>\n",
       "      <td>0.022537</td>\n",
       "    </tr>\n",
       "    <tr>\n",
       "      <th>2016-01-08</th>\n",
       "      <td>-0.016531</td>\n",
       "      <td>-0.007414</td>\n",
       "      <td>-0.019340</td>\n",
       "      <td>-0.008319</td>\n",
       "      <td>-0.014601</td>\n",
       "      <td>NaN</td>\n",
       "      <td>0.010803</td>\n",
       "      <td>0.011587</td>\n",
       "    </tr>\n",
       "  </tbody>\n",
       "</table>\n",
       "</div>"
      ],
      "text/plain": [
       "               value    growth   earning    margin      size  dma      dema  \\\n",
       "DATE                                                                          \n",
       "2016-01-04 -0.026347 -0.020456 -0.019849 -0.014327 -0.017668  NaN       NaN   \n",
       "2016-01-05  0.004578 -0.002113 -0.005639 -0.010641 -0.008923  NaN       NaN   \n",
       "2016-01-06 -0.012086 -0.009928 -0.017750 -0.026445 -0.012731  NaN       NaN   \n",
       "2016-01-07 -0.022689 -0.025097 -0.029646 -0.035277 -0.034334  NaN  0.023822   \n",
       "2016-01-08 -0.016531 -0.007414 -0.019340 -0.008319 -0.014601  NaN  0.010803   \n",
       "\n",
       "                macd  \n",
       "DATE                  \n",
       "2016-01-04       NaN  \n",
       "2016-01-05       NaN  \n",
       "2016-01-06       NaN  \n",
       "2016-01-07  0.022537  \n",
       "2016-01-08  0.011587  "
      ]
     },
     "execution_count": 102,
     "metadata": {},
     "output_type": "execute_result"
    }
   ],
   "source": [
    "# Combine returns for all strategies for easy manipulation\n",
    "returns = pd.concat([PEValuePort['RETX'],PEGrowthPort['RETX'],earningsPort['RETX'],marginPort['RETX'],\n",
    "                    sizePort['RETX'],dmaPort['dmaRet'],demaPort['demaRet'], macdPort['macdRet']],\n",
    "                    axis=1, keys=['value','growth','earning','margin','size','dma','dema','macd'])\n",
    "\n",
    "returns.head()"
   ]
  },
  {
   "cell_type": "code",
   "execution_count": 103,
   "id": "fc2a3fea",
   "metadata": {},
   "outputs": [],
   "source": [
    "# ret is average return for each strategy, and cov_matrix is the covariance matrix\n",
    "ret = np.array([PEValueRet,PEGrowthRet,earningsRet,marginRet,sizeRet,\n",
    "               dmaRet,demaRet,macdRet])\n",
    "rf = ff.loc['2016-01-01':]['RF'].mean()\n",
    "cov_matrix = returns[['value','growth','earning','margin','size',\n",
    "                      'dma','dema','macd']].cov()\n",
    "cov_matrix = np.array(cov_matrix)"
   ]
  },
  {
   "cell_type": "code",
   "execution_count": 104,
   "id": "3f05b55e",
   "metadata": {},
   "outputs": [
    {
     "data": {
      "text/plain": [
       "[(array([-0.00313669, -0.01612712,  0.02621135,  0.01141013,  0.01556244,\n",
       "          0.00952958,  0.02849821,  0.03723251]),\n",
       "  0.09999999999999999,\n",
       "  0.023818720023238316,\n",
       "  3.5575541294511317)]"
      ]
     },
     "execution_count": 104,
     "metadata": {},
     "output_type": "execute_result"
    }
   ],
   "source": [
    "portSPRes = [mean_var_opt(ret.T * 252, cov_matrix * 252, rf * 252, 0.1)]\n",
    "portSPRes"
   ]
  },
  {
   "cell_type": "code",
   "execution_count": null,
   "id": "75fe388d",
   "metadata": {},
   "outputs": [],
   "source": []
  },
  {
   "cell_type": "code",
   "execution_count": 105,
   "id": "fcc16ccc",
   "metadata": {
    "scrolled": true
   },
   "outputs": [
    {
     "name": "stdout",
     "output_type": "stream",
     "text": [
      "Expected annual return: 70.3%\n",
      "Annual volatility: 19.6%\n",
      "Sharpe Ratio: 3.51\n",
      "[0.0, 0.0, 0.19103, 0.04083, 0.12543, 0.09274, 0.24602, 0.30394]\n"
     ]
    }
   ],
   "source": [
    "# Maximizing Sharpe Ratio\n",
    "# mu = expected_returns.mean_historical_return(returns, returns_data=True)\n",
    "# S = risk_models.sample_cov(returns, returns_data=True)\n",
    "\n",
    "ef = EfficientFrontier(ret * 252, cov_matrix * 252)\n",
    "weights = ef.max_sharpe(rf*252)\n",
    "maxSharpeRes = ef.portfolio_performance(verbose=True)\n",
    "clean_weights = ef.clean_weights()\n",
    "maxSharpeWt = []\n",
    "for value in clean_weights.values():\n",
    "    maxSharpeWt.append(value)\n",
    "print(maxSharpeWt)"
   ]
  },
  {
   "cell_type": "code",
   "execution_count": 106,
   "id": "63ac0664",
   "metadata": {},
   "outputs": [
    {
     "name": "stdout",
     "output_type": "stream",
     "text": [
      "Expected annual return: 30.0%\n",
      "Annual volatility: 13.2%\n",
      "Sharpe Ratio: 2.12\n",
      "[0.07326, 0.19157, 0.06603, 0.00506, 0.00368, 0.28582, 0.21975, 0.15483]\n"
     ]
    }
   ],
   "source": [
    "# Minimizing risk\n",
    "# mu = expected_returns.mean_historical_return(returns, returns_data=True)\n",
    "# S = risk_models.sample_cov(returns, returns_data=True)\n",
    "\n",
    "ef = EfficientFrontier(ret * 252, cov_matrix * 252)\n",
    "weights = ef.min_volatility()\n",
    "minRiskRes = ef.portfolio_performance(verbose=True)\n",
    "clean_weights = ef.clean_weights()\n",
    "minRiskWt = []\n",
    "for value in clean_weights.values():\n",
    "    minRiskWt.append(value)\n",
    "print(minRiskWt)"
   ]
  },
  {
   "cell_type": "code",
   "execution_count": 107,
   "id": "ed788324",
   "metadata": {},
   "outputs": [
    {
     "data": {
      "text/plain": [
       "[0.07326, 0.19157, 0.06603, 0.00506, 0.00368, 0.28582, 0.21975, 0.15483]"
      ]
     },
     "execution_count": 107,
     "metadata": {},
     "output_type": "execute_result"
    }
   ],
   "source": [
    "minRiskWt"
   ]
  },
  {
   "cell_type": "code",
   "execution_count": 108,
   "id": "5c486001",
   "metadata": {},
   "outputs": [
    {
     "data": {
      "text/html": [
       "<div>\n",
       "<style scoped>\n",
       "    .dataframe tbody tr th:only-of-type {\n",
       "        vertical-align: middle;\n",
       "    }\n",
       "\n",
       "    .dataframe tbody tr th {\n",
       "        vertical-align: top;\n",
       "    }\n",
       "\n",
       "    .dataframe thead th {\n",
       "        text-align: right;\n",
       "    }\n",
       "</style>\n",
       "<table border=\"1\" class=\"dataframe\">\n",
       "  <thead>\n",
       "    <tr style=\"text-align: right;\">\n",
       "      <th></th>\n",
       "      <th>value</th>\n",
       "      <th>growth</th>\n",
       "      <th>earning</th>\n",
       "      <th>margin</th>\n",
       "      <th>size</th>\n",
       "      <th>dma</th>\n",
       "      <th>dema</th>\n",
       "      <th>macd</th>\n",
       "      <th>ret</th>\n",
       "      <th>minRiskVal</th>\n",
       "    </tr>\n",
       "    <tr>\n",
       "      <th>DATE</th>\n",
       "      <th></th>\n",
       "      <th></th>\n",
       "      <th></th>\n",
       "      <th></th>\n",
       "      <th></th>\n",
       "      <th></th>\n",
       "      <th></th>\n",
       "      <th></th>\n",
       "      <th></th>\n",
       "      <th></th>\n",
       "    </tr>\n",
       "  </thead>\n",
       "  <tbody>\n",
       "    <tr>\n",
       "      <th>2016-01-04</th>\n",
       "      <td>-0.001930</td>\n",
       "      <td>-0.003919</td>\n",
       "      <td>-0.001311</td>\n",
       "      <td>-0.000072</td>\n",
       "      <td>-0.000065</td>\n",
       "      <td>NaN</td>\n",
       "      <td>NaN</td>\n",
       "      <td>NaN</td>\n",
       "      <td>-0.007297</td>\n",
       "      <td>0.992703</td>\n",
       "    </tr>\n",
       "    <tr>\n",
       "      <th>2016-01-05</th>\n",
       "      <td>0.000335</td>\n",
       "      <td>-0.000405</td>\n",
       "      <td>-0.000372</td>\n",
       "      <td>-0.000054</td>\n",
       "      <td>-0.000033</td>\n",
       "      <td>NaN</td>\n",
       "      <td>NaN</td>\n",
       "      <td>NaN</td>\n",
       "      <td>-0.000528</td>\n",
       "      <td>0.992178</td>\n",
       "    </tr>\n",
       "    <tr>\n",
       "      <th>2016-01-06</th>\n",
       "      <td>-0.000885</td>\n",
       "      <td>-0.001902</td>\n",
       "      <td>-0.001172</td>\n",
       "      <td>-0.000134</td>\n",
       "      <td>-0.000047</td>\n",
       "      <td>NaN</td>\n",
       "      <td>NaN</td>\n",
       "      <td>NaN</td>\n",
       "      <td>-0.004140</td>\n",
       "      <td>0.988071</td>\n",
       "    </tr>\n",
       "    <tr>\n",
       "      <th>2016-01-07</th>\n",
       "      <td>-0.001662</td>\n",
       "      <td>-0.004808</td>\n",
       "      <td>-0.001958</td>\n",
       "      <td>-0.000179</td>\n",
       "      <td>-0.000126</td>\n",
       "      <td>NaN</td>\n",
       "      <td>0.005235</td>\n",
       "      <td>0.003489</td>\n",
       "      <td>-0.000008</td>\n",
       "      <td>0.988063</td>\n",
       "    </tr>\n",
       "    <tr>\n",
       "      <th>2016-01-08</th>\n",
       "      <td>-0.001211</td>\n",
       "      <td>-0.001420</td>\n",
       "      <td>-0.001277</td>\n",
       "      <td>-0.000042</td>\n",
       "      <td>-0.000054</td>\n",
       "      <td>NaN</td>\n",
       "      <td>0.002374</td>\n",
       "      <td>0.001794</td>\n",
       "      <td>0.000164</td>\n",
       "      <td>0.988225</td>\n",
       "    </tr>\n",
       "    <tr>\n",
       "      <th>...</th>\n",
       "      <td>...</td>\n",
       "      <td>...</td>\n",
       "      <td>...</td>\n",
       "      <td>...</td>\n",
       "      <td>...</td>\n",
       "      <td>...</td>\n",
       "      <td>...</td>\n",
       "      <td>...</td>\n",
       "      <td>...</td>\n",
       "      <td>...</td>\n",
       "    </tr>\n",
       "    <tr>\n",
       "      <th>2023-09-25</th>\n",
       "      <td>0.000007</td>\n",
       "      <td>0.000815</td>\n",
       "      <td>-0.000169</td>\n",
       "      <td>-0.000037</td>\n",
       "      <td>-0.000017</td>\n",
       "      <td>0.002608</td>\n",
       "      <td>0.001965</td>\n",
       "      <td>0.001609</td>\n",
       "      <td>0.006781</td>\n",
       "      <td>9.372088</td>\n",
       "    </tr>\n",
       "    <tr>\n",
       "      <th>2023-09-26</th>\n",
       "      <td>-0.000774</td>\n",
       "      <td>-0.002833</td>\n",
       "      <td>-0.000846</td>\n",
       "      <td>-0.000073</td>\n",
       "      <td>0.000020</td>\n",
       "      <td>-0.002065</td>\n",
       "      <td>0.001054</td>\n",
       "      <td>0.001041</td>\n",
       "      <td>-0.004476</td>\n",
       "      <td>9.330137</td>\n",
       "    </tr>\n",
       "    <tr>\n",
       "      <th>2023-09-27</th>\n",
       "      <td>0.000613</td>\n",
       "      <td>0.002065</td>\n",
       "      <td>0.000785</td>\n",
       "      <td>0.000025</td>\n",
       "      <td>0.000024</td>\n",
       "      <td>-0.000695</td>\n",
       "      <td>0.000295</td>\n",
       "      <td>0.000281</td>\n",
       "      <td>0.003392</td>\n",
       "      <td>9.361782</td>\n",
       "    </tr>\n",
       "    <tr>\n",
       "      <th>2023-09-28</th>\n",
       "      <td>0.000545</td>\n",
       "      <td>0.000439</td>\n",
       "      <td>0.000631</td>\n",
       "      <td>0.000024</td>\n",
       "      <td>-0.000009</td>\n",
       "      <td>-0.000865</td>\n",
       "      <td>0.001861</td>\n",
       "      <td>0.000431</td>\n",
       "      <td>0.003057</td>\n",
       "      <td>9.390401</td>\n",
       "    </tr>\n",
       "    <tr>\n",
       "      <th>2023-09-29</th>\n",
       "      <td>0.000355</td>\n",
       "      <td>-0.000026</td>\n",
       "      <td>-0.000479</td>\n",
       "      <td>-0.000023</td>\n",
       "      <td>-0.000003</td>\n",
       "      <td>0.000920</td>\n",
       "      <td>0.000455</td>\n",
       "      <td>0.001096</td>\n",
       "      <td>0.002295</td>\n",
       "      <td>9.411949</td>\n",
       "    </tr>\n",
       "  </tbody>\n",
       "</table>\n",
       "<p>1949 rows × 10 columns</p>\n",
       "</div>"
      ],
      "text/plain": [
       "               value    growth   earning    margin      size       dma  \\\n",
       "DATE                                                                     \n",
       "2016-01-04 -0.001930 -0.003919 -0.001311 -0.000072 -0.000065       NaN   \n",
       "2016-01-05  0.000335 -0.000405 -0.000372 -0.000054 -0.000033       NaN   \n",
       "2016-01-06 -0.000885 -0.001902 -0.001172 -0.000134 -0.000047       NaN   \n",
       "2016-01-07 -0.001662 -0.004808 -0.001958 -0.000179 -0.000126       NaN   \n",
       "2016-01-08 -0.001211 -0.001420 -0.001277 -0.000042 -0.000054       NaN   \n",
       "...              ...       ...       ...       ...       ...       ...   \n",
       "2023-09-25  0.000007  0.000815 -0.000169 -0.000037 -0.000017  0.002608   \n",
       "2023-09-26 -0.000774 -0.002833 -0.000846 -0.000073  0.000020 -0.002065   \n",
       "2023-09-27  0.000613  0.002065  0.000785  0.000025  0.000024 -0.000695   \n",
       "2023-09-28  0.000545  0.000439  0.000631  0.000024 -0.000009 -0.000865   \n",
       "2023-09-29  0.000355 -0.000026 -0.000479 -0.000023 -0.000003  0.000920   \n",
       "\n",
       "                dema      macd       ret  minRiskVal  \n",
       "DATE                                                  \n",
       "2016-01-04       NaN       NaN -0.007297    0.992703  \n",
       "2016-01-05       NaN       NaN -0.000528    0.992178  \n",
       "2016-01-06       NaN       NaN -0.004140    0.988071  \n",
       "2016-01-07  0.005235  0.003489 -0.000008    0.988063  \n",
       "2016-01-08  0.002374  0.001794  0.000164    0.988225  \n",
       "...              ...       ...       ...         ...  \n",
       "2023-09-25  0.001965  0.001609  0.006781    9.372088  \n",
       "2023-09-26  0.001054  0.001041 -0.004476    9.330137  \n",
       "2023-09-27  0.000295  0.000281  0.003392    9.361782  \n",
       "2023-09-28  0.001861  0.000431  0.003057    9.390401  \n",
       "2023-09-29  0.000455  0.001096  0.002295    9.411949  \n",
       "\n",
       "[1949 rows x 10 columns]"
      ]
     },
     "execution_count": 108,
     "metadata": {},
     "output_type": "execute_result"
    }
   ],
   "source": [
    "# Creating risk-minimizing portfolio\n",
    "minRiskPort = returns[['value','growth','earning','margin','size',\n",
    "                      'dma','dema','macd']] * minRiskWt\n",
    "\n",
    "# Calculate daily returns\n",
    "minRiskPort['ret'] = minRiskPort.sum(axis=1)\n",
    "\n",
    "# Calculate portfolio value if starts with $1\n",
    "minRiskPort['minRiskVal'] = (1 + minRiskPort['ret']).cumprod()\n",
    "minRiskPort"
   ]
  },
  {
   "cell_type": "code",
   "execution_count": 109,
   "id": "c280596e",
   "metadata": {},
   "outputs": [
    {
     "data": {
      "text/html": [
       "<div>\n",
       "<style scoped>\n",
       "    .dataframe tbody tr th:only-of-type {\n",
       "        vertical-align: middle;\n",
       "    }\n",
       "\n",
       "    .dataframe tbody tr th {\n",
       "        vertical-align: top;\n",
       "    }\n",
       "\n",
       "    .dataframe thead th {\n",
       "        text-align: right;\n",
       "    }\n",
       "</style>\n",
       "<table border=\"1\" class=\"dataframe\">\n",
       "  <thead>\n",
       "    <tr style=\"text-align: right;\">\n",
       "      <th></th>\n",
       "      <th>value</th>\n",
       "      <th>growth</th>\n",
       "      <th>earning</th>\n",
       "      <th>margin</th>\n",
       "      <th>size</th>\n",
       "      <th>dma</th>\n",
       "      <th>dema</th>\n",
       "      <th>macd</th>\n",
       "      <th>ret</th>\n",
       "      <th>maxSharpeVal</th>\n",
       "    </tr>\n",
       "    <tr>\n",
       "      <th>DATE</th>\n",
       "      <th></th>\n",
       "      <th></th>\n",
       "      <th></th>\n",
       "      <th></th>\n",
       "      <th></th>\n",
       "      <th></th>\n",
       "      <th></th>\n",
       "      <th></th>\n",
       "      <th></th>\n",
       "      <th></th>\n",
       "    </tr>\n",
       "  </thead>\n",
       "  <tbody>\n",
       "    <tr>\n",
       "      <th>2016-01-04</th>\n",
       "      <td>-0.0</td>\n",
       "      <td>-0.0</td>\n",
       "      <td>-0.003792</td>\n",
       "      <td>-0.000585</td>\n",
       "      <td>-0.002216</td>\n",
       "      <td>NaN</td>\n",
       "      <td>NaN</td>\n",
       "      <td>NaN</td>\n",
       "      <td>-0.006593</td>\n",
       "      <td>0.993407</td>\n",
       "    </tr>\n",
       "    <tr>\n",
       "      <th>2016-01-05</th>\n",
       "      <td>0.0</td>\n",
       "      <td>-0.0</td>\n",
       "      <td>-0.001077</td>\n",
       "      <td>-0.000434</td>\n",
       "      <td>-0.001119</td>\n",
       "      <td>NaN</td>\n",
       "      <td>NaN</td>\n",
       "      <td>NaN</td>\n",
       "      <td>-0.002631</td>\n",
       "      <td>0.990793</td>\n",
       "    </tr>\n",
       "    <tr>\n",
       "      <th>2016-01-06</th>\n",
       "      <td>-0.0</td>\n",
       "      <td>-0.0</td>\n",
       "      <td>-0.003391</td>\n",
       "      <td>-0.001080</td>\n",
       "      <td>-0.001597</td>\n",
       "      <td>NaN</td>\n",
       "      <td>NaN</td>\n",
       "      <td>NaN</td>\n",
       "      <td>-0.006067</td>\n",
       "      <td>0.984782</td>\n",
       "    </tr>\n",
       "    <tr>\n",
       "      <th>2016-01-07</th>\n",
       "      <td>-0.0</td>\n",
       "      <td>-0.0</td>\n",
       "      <td>-0.005663</td>\n",
       "      <td>-0.001440</td>\n",
       "      <td>-0.004307</td>\n",
       "      <td>NaN</td>\n",
       "      <td>0.005861</td>\n",
       "      <td>0.006850</td>\n",
       "      <td>0.001300</td>\n",
       "      <td>0.986062</td>\n",
       "    </tr>\n",
       "    <tr>\n",
       "      <th>2016-01-08</th>\n",
       "      <td>-0.0</td>\n",
       "      <td>-0.0</td>\n",
       "      <td>-0.003694</td>\n",
       "      <td>-0.000340</td>\n",
       "      <td>-0.001831</td>\n",
       "      <td>NaN</td>\n",
       "      <td>0.002658</td>\n",
       "      <td>0.003522</td>\n",
       "      <td>0.000314</td>\n",
       "      <td>0.986372</td>\n",
       "    </tr>\n",
       "    <tr>\n",
       "      <th>...</th>\n",
       "      <td>...</td>\n",
       "      <td>...</td>\n",
       "      <td>...</td>\n",
       "      <td>...</td>\n",
       "      <td>...</td>\n",
       "      <td>...</td>\n",
       "      <td>...</td>\n",
       "      <td>...</td>\n",
       "      <td>...</td>\n",
       "      <td>...</td>\n",
       "    </tr>\n",
       "    <tr>\n",
       "      <th>2023-09-25</th>\n",
       "      <td>0.0</td>\n",
       "      <td>0.0</td>\n",
       "      <td>-0.000488</td>\n",
       "      <td>-0.000297</td>\n",
       "      <td>-0.000586</td>\n",
       "      <td>0.000846</td>\n",
       "      <td>0.002200</td>\n",
       "      <td>0.003159</td>\n",
       "      <td>0.004834</td>\n",
       "      <td>195.657692</td>\n",
       "    </tr>\n",
       "    <tr>\n",
       "      <th>2023-09-26</th>\n",
       "      <td>-0.0</td>\n",
       "      <td>-0.0</td>\n",
       "      <td>-0.002446</td>\n",
       "      <td>-0.000588</td>\n",
       "      <td>0.000696</td>\n",
       "      <td>-0.000670</td>\n",
       "      <td>0.001180</td>\n",
       "      <td>0.002043</td>\n",
       "      <td>0.000214</td>\n",
       "      <td>195.699559</td>\n",
       "    </tr>\n",
       "    <tr>\n",
       "      <th>2023-09-27</th>\n",
       "      <td>0.0</td>\n",
       "      <td>0.0</td>\n",
       "      <td>0.002270</td>\n",
       "      <td>0.000201</td>\n",
       "      <td>0.000807</td>\n",
       "      <td>-0.000226</td>\n",
       "      <td>0.000330</td>\n",
       "      <td>0.000551</td>\n",
       "      <td>0.003934</td>\n",
       "      <td>196.469458</td>\n",
       "    </tr>\n",
       "    <tr>\n",
       "      <th>2023-09-28</th>\n",
       "      <td>0.0</td>\n",
       "      <td>0.0</td>\n",
       "      <td>0.001826</td>\n",
       "      <td>0.000192</td>\n",
       "      <td>-0.000302</td>\n",
       "      <td>-0.000281</td>\n",
       "      <td>0.002083</td>\n",
       "      <td>0.000846</td>\n",
       "      <td>0.004365</td>\n",
       "      <td>197.326975</td>\n",
       "    </tr>\n",
       "    <tr>\n",
       "      <th>2023-09-29</th>\n",
       "      <td>0.0</td>\n",
       "      <td>-0.0</td>\n",
       "      <td>-0.001386</td>\n",
       "      <td>-0.000183</td>\n",
       "      <td>-0.000087</td>\n",
       "      <td>0.000298</td>\n",
       "      <td>0.000509</td>\n",
       "      <td>0.002151</td>\n",
       "      <td>0.001303</td>\n",
       "      <td>197.584101</td>\n",
       "    </tr>\n",
       "  </tbody>\n",
       "</table>\n",
       "<p>1949 rows × 10 columns</p>\n",
       "</div>"
      ],
      "text/plain": [
       "            value  growth   earning    margin      size       dma      dema  \\\n",
       "DATE                                                                          \n",
       "2016-01-04   -0.0    -0.0 -0.003792 -0.000585 -0.002216       NaN       NaN   \n",
       "2016-01-05    0.0    -0.0 -0.001077 -0.000434 -0.001119       NaN       NaN   \n",
       "2016-01-06   -0.0    -0.0 -0.003391 -0.001080 -0.001597       NaN       NaN   \n",
       "2016-01-07   -0.0    -0.0 -0.005663 -0.001440 -0.004307       NaN  0.005861   \n",
       "2016-01-08   -0.0    -0.0 -0.003694 -0.000340 -0.001831       NaN  0.002658   \n",
       "...           ...     ...       ...       ...       ...       ...       ...   \n",
       "2023-09-25    0.0     0.0 -0.000488 -0.000297 -0.000586  0.000846  0.002200   \n",
       "2023-09-26   -0.0    -0.0 -0.002446 -0.000588  0.000696 -0.000670  0.001180   \n",
       "2023-09-27    0.0     0.0  0.002270  0.000201  0.000807 -0.000226  0.000330   \n",
       "2023-09-28    0.0     0.0  0.001826  0.000192 -0.000302 -0.000281  0.002083   \n",
       "2023-09-29    0.0    -0.0 -0.001386 -0.000183 -0.000087  0.000298  0.000509   \n",
       "\n",
       "                macd       ret  maxSharpeVal  \n",
       "DATE                                          \n",
       "2016-01-04       NaN -0.006593      0.993407  \n",
       "2016-01-05       NaN -0.002631      0.990793  \n",
       "2016-01-06       NaN -0.006067      0.984782  \n",
       "2016-01-07  0.006850  0.001300      0.986062  \n",
       "2016-01-08  0.003522  0.000314      0.986372  \n",
       "...              ...       ...           ...  \n",
       "2023-09-25  0.003159  0.004834    195.657692  \n",
       "2023-09-26  0.002043  0.000214    195.699559  \n",
       "2023-09-27  0.000551  0.003934    196.469458  \n",
       "2023-09-28  0.000846  0.004365    197.326975  \n",
       "2023-09-29  0.002151  0.001303    197.584101  \n",
       "\n",
       "[1949 rows x 10 columns]"
      ]
     },
     "execution_count": 109,
     "metadata": {},
     "output_type": "execute_result"
    }
   ],
   "source": [
    "# Creating Sharpe-maximizing portfolio\n",
    "maxSharpePort = returns[['value','growth','earning','margin','size',\n",
    "                      'dma','dema','macd']] * maxSharpeWt\n",
    "\n",
    "# Calculate daily returns\n",
    "maxSharpePort['ret'] = maxSharpePort.sum(axis=1)\n",
    "\n",
    "# Calculate portfolio value if starts with $1\n",
    "maxSharpePort['maxSharpeVal'] = (1 + maxSharpePort['ret']).cumprod()\n",
    "maxSharpePort"
   ]
  },
  {
   "cell_type": "code",
   "execution_count": 110,
   "id": "b22e4295",
   "metadata": {},
   "outputs": [
    {
     "data": {
      "image/png": "[encoded data removed]",
      "text/plain": [
       "<Figure size 640x480 with 2 Axes>"
      ]
     },
     "metadata": {},
     "output_type": "display_data"
    }
   ],
   "source": [
    "# In-sample portfolio value\n",
    "# Create a figure and a single subplot\n",
    "fig, ax1 = plt.subplots()\n",
    "\n",
    "# Plot the first data series on the first y-axis\n",
    "color = 'tab:red'\n",
    "ax1.set_xlabel('Date')\n",
    "ax1.set_ylabel('Risk-Minimizing Portfolio', color=color)\n",
    "ax1.plot(minRiskPort.index, minRiskPort['minRiskVal'],\n",
    "         color=color, label='Risk-Minimizing Portfolio')\n",
    "ax1.tick_params(axis='y', labelcolor=color)\n",
    "\n",
    "# Create a second y-axis for the second data series\n",
    "ax2 = ax1.twinx()  # instantiate a second axes that shares the same x-axis\n",
    "color = 'tab:blue'\n",
    "ax2.set_ylabel('Sharpe-Maximizing Portfolio', color=color)  # we already handled the x-label with ax1\n",
    "ax2.plot(maxSharpePort.index, maxSharpePort['maxSharpeVal'],\n",
    "         color=color, label='Sharpe-Maximizing Portfolio')\n",
    "ax2.tick_params(axis='y', labelcolor=color)\n",
    "\n",
    "# Show the plot\n",
    "fig.legend(loc='upper left', bbox_to_anchor=(0.14,0.86))\n",
    "plt.show()"
   ]
  },
  {
   "cell_type": "code",
   "execution_count": null,
   "id": "91add6f8",
   "metadata": {},
   "outputs": [],
   "source": []
  }
 ],
 "metadata": {
  "kernelspec": {
   "display_name": "Python 3 (ipykernel)",
   "language": "python",
   "name": "python3"
  },
  "language_info": {
   "codemirror_mode": {
    "name": "ipython",
    "version": 3
   },
   "file_extension": ".py",
   "mimetype": "text/x-python",
   "name": "python",
   "nbconvert_exporter": "python",
   "pygments_lexer": "ipython3",
   "version": "3.10.14"
  }
 },
 "nbformat": 4,
 "nbformat_minor": 5
}
